{
 "cells": [
  {
   "cell_type": "markdown",
   "metadata": {},
   "source": [
    "<h1>Analysis of Factors Affecting the Quality of Red Wine and Quality Prediction\n",
    "</h1>"
   ]
  },
  {
   "cell_type": "markdown",
   "metadata": {},
   "source": [
    "<h4>Team members:</h4>\n",
    "<ol>\n",
    "    <li>Zechariah Lee</li>\n",
    "    <li>Tey Jia Ying</li>\n",
    "    <li>Siow Jia Ying</li>\n",
    "    <li>Stephanie Zhang Li Wen</li>\n",
    "    <li>Chua Wei Yin</li>\n",
    "</ol>\n",
    "<h4>Date:</h4>\n",
    "6 Oct 2020\n"
   ]
  },
  {
   "cell_type": "markdown",
   "metadata": {},
   "source": [
    "<h3>Introduction to research topic</h3>"
   ]
  },
  {
   "cell_type": "markdown",
   "metadata": {},
   "source": [
    "A new wine brewery in Portugal, Jewel Wine, has engaged our service to analyze the different compositions found in red wine. They hope to obtain valuable insights to the factors that affect wine quality and will help them to improve their wine branding. As well as, some of their lower quality wines. There are several factors that go into producing a wine and these indicators can affect the wine quality which will be listed below."
   ]
  },
  {
   "cell_type": "markdown",
   "metadata": {},
   "source": [
    "<h3> Project Objective</h3>"
   ]
  },
  {
   "cell_type": "markdown",
   "metadata": {},
   "source": [
    "This data analysis aims to evaluate how various factors affect the quality of red wine from a scale of 0 to 10, with 0 representing poor quality and 10 representing excellent quality. These factors include: \n",
    "1. Fixed acidity<br>\n",
    "2. Volatile acidity<br>\n",
    "3. Citric acid<br>\n",
    "4. Residual sugar<br>\n",
    "5. Chlorides<br>\n",
    "6. Free sulfur dioxide<br>\n",
    "7. Total sulfur dioxide<br>\n",
    "8. Density<br>\n",
    "9. pH level<br>\n",
    "10. Sulphate<br>\n",
    "11. Alcohol<br>\n",
    "We will also be doing a quality prediction model to predict the quality of red wine based on the factors inputted.\n"
   ]
  },
  {
   "cell_type": "markdown",
   "metadata": {},
   "source": [
    "<h3>Initial Hypothesis</h3>\n"
   ]
  },
  {
   "cell_type": "markdown",
   "metadata": {},
   "source": [
    "We hypothesize that the pH level is the most crucial factor in evaluating the grade of red wine. The pH level of wine is a measurement of its ripeness in relation to acidity. A wine that has a low pH level (acidic) tastes tart and crisp while wines with higher pH levels (basic) are considered more prone to bacterial growth. The average pH level for red wine is about 3.3 to 3.6 (Vinny, 2020).\n"
   ]
  },
  {
   "cell_type": "markdown",
   "metadata": {},
   "source": [
    "<h3>Selected Dataset & Data Preparation</h3>\n",
    "\n",
    "<h4>I. Problem Statement / Research Topic (2 Marks)\n",
    "</h4>"
   ]
  },
  {
   "cell_type": "markdown",
   "metadata": {},
   "source": [
    " \n",
    "The research topic on quality evaluation of red wine will be addressed.  We are researching this topic as we are interested in how to differentiate between poor quality and good quality red wine. By researching this topic, we hope to identify the determining factor of a good or bad wine. These findings can also be used by wine manufacturers to improve wines of lower quality.\n"
   ]
  },
  {
   "cell_type": "markdown",
   "metadata": {},
   "source": [
    "<h4>II. Dataset and Data Preparation (2 Marks)</h4>"
   ]
  },
  {
   "cell_type": "markdown",
   "metadata": {},
   "source": [
    "Data portal:UCI, Machine Learning Repository(\"https://archive.ics.uci.edu/ml/datasets/wine+quality\")\n",
    "<br>\n",
    "Source of dataset(s):https://archive.ics.uci.edu/ml/datasets/wine+quality\n",
    "\n",
    "Data Info:\n",
    "The two datasets are related to red and white variants of the Portuguese \"Vinho Verde\" wine. For more details, consult: [Web Link] or the reference [Cortez et al., 2009]. Due to privacy and logistic issues, only physicochemical (inputs) and sensory (the output) variables are available (e.g. there is no data about grape types, wine brand, wine selling price, etc.).\n",
    " \n",
    "These datasets can be viewed as classification or regression tasks. The classes are ordered and not balanced (e.g. there are many more normal win\n",
    "\n",
    "Data Structure:\n",
    "File type: CSV\n",
    "Columns:  11 Columns- Different Physicochemical headings, 1 column - overall quality   \n",
    "Row: 1599 Rows - Respective values \n",
    "Period of Data Collection: May 2004 - Feb 2007\n",
    "Method: Recorded by a computerized system (iLab), which automatically manages the process of wine sample testing from producer requests to laboratory and sensory analysis. Each entry denotes a given test (analytical or sensory) and the final database was exported into a single sheet (.csv).\n",
    "Quality: Regarding the preferences, each sample was evaluated by a minimum of three sensory assessors (using blind tastes), which graded the wine in a scale that ranges from 0 (very bad) to 10 (excellent). The final sensory score is given by the median of these evaluations"
   ]
  },
  {
   "cell_type": "markdown",
   "metadata": {},
   "source": [
    "<hr>"
   ]
  },
  {
   "cell_type": "markdown",
   "metadata": {},
   "source": [
    "<h2 style=\"background-color:lightpink;border-radius:5px;text-align:center;padding:7px;color:white;\">Overview of Project & Explanation of Dataset:</h2>"
   ]
  },
  {
   "cell_type": "markdown",
   "metadata": {},
   "source": [
    "<h3>Overview:</h3>\n",
    "We have structured our project into 4 key sections. Below, we will share with you the steps we took together with insights for each section.\n",
    "\n",
    "1. Data Cleaning\n",
    "2. Exploratary Data Analysis\n",
    "3. Analysis of Factors affecting Red Wine quality - Visualization\n",
    "4. Wine Quality Prediction Model"
   ]
  },
  {
   "cell_type": "markdown",
   "metadata": {},
   "source": [
    "<h3>Explanation of Dataset:</h3>"
   ]
  },
  {
   "cell_type": "markdown",
   "metadata": {},
   "source": [
    "The dataset used for our project consist of quality and attributes for 1599 red wines.\n",
    "The dataset is related to red variants of the Portuguese \"Vinho Verde\" wine.\n",
    "In the dataset consists of 11 attributes for each red wine:\n",
    "\n",
    "<table>\n",
    "    <thead>\n",
    "        <td>Attributes/Factors</td>\n",
    "        <td>Description</td>\n",
    "    </thead>\n",
    "    <tr>\n",
    "        <td>fixed acidity (tartaric acid - g / dm^3)</td>\n",
    "        <td>most acids involved with wine or fixed or nonvolatile (do not evaporate readily)</td>\n",
    "    </tr>\n",
    "    <tr>\n",
    "        <td>volatile acidity (acetic acid - g / dm^3)</td>\n",
    "        <td>the amount of acetic acid in wine, which at too high of levels can lead to an  unpleasant, vinegar taste</td>\n",
    "    </tr>\n",
    "    <tr>\n",
    "        <td>citric acid (g / dm^3)</td>\n",
    "        <td>found in small quantities, citric acid can add ‘freshness’ and flavor to wines</td>\n",
    "    </tr>\n",
    "    <tr>\n",
    "        <td>residual sugar (g / dm^3)</td>\n",
    "        <td>the amount of sugar remaining after fermentation stops, it’s rare to find wines with less than 1 gram/liter and wines with greater than 45 grams/liter are considered sweet</td>\n",
    "    </tr>\n",
    "    <tr>\n",
    "        <td>chlorides (sodium chloride - g / dm^3</td>\n",
    "        <td>the amount of salt in the wine</td>\n",
    "    </tr>\n",
    "    <tr>\n",
    "        <td>free sulfur dioxide (mg / dm^3)</td>\n",
    "        <td>the free form of SO2 exists in equilibrium between molecular SO2 (as a dissolved gas) and bisulfite ion; it prevents microbial growth and the oxidation of wine</td>\n",
    "    </tr>\n",
    "    <tr>\n",
    "        <td>total sulfur dioxide (mg / dm^3)</td>\n",
    "        <td>amount of free and bound forms of S02; in low concentrations, SO2 is mostly undetectable in wine, but at free SO2 concentrations over 50 ppm, SO2 becomes evident in the nose and taste of wine</td>\n",
    "    </tr>\n",
    "    <tr>\n",
    "        <td>density (g / cm^3)</td>\n",
    "        <td>the density of water is close to that of water depending on the percent alcohol and sugar content</td>\n",
    "    </tr>\n",
    "    <tr>\n",
    "        <td>pH</td>\n",
    "        <td>describes how acidic or basic a wine is on a scale from 0 (very acidic) to 14 (very basic); most wines are between 3-4 on the pH scale</td>\n",
    "    </tr>\n",
    "    <tr>\n",
    "        <td>sulphates (potassium sulphate - g / dm3)</td>\n",
    "        <td>a wine additive which can contribute to sulfur dioxide gas (S02) levels, wich acts as an antimicrobial and antioxidant</td>\n",
    "    </tr>\n",
    "    <tr>\n",
    "        <td>alcohol (% by volume)</td>\n",
    "        <td>the percent alcohol content of the wine</td>\n",
    "    </tr>\n",
    "</table>"
   ]
  },
  {
   "cell_type": "markdown",
   "metadata": {},
   "source": [
    "<h2 style=\"background-color:lightpink;border-radius:5px;text-align:center;padding:10px;color:white;\">1. Data Cleaning</h2>"
   ]
  },
  {
   "cell_type": "code",
   "execution_count": 145,
   "metadata": {},
   "outputs": [],
   "source": [
    "import pandas as pd \n",
    "import seaborn as sns \n",
    "import matplotlib.pyplot as plt\n",
    "import numpy as np"
   ]
  },
  {
   "cell_type": "code",
   "execution_count": 146,
   "metadata": {},
   "outputs": [
    {
     "data": {
      "text/html": [
       "<div>\n",
       "<style scoped>\n",
       "    .dataframe tbody tr th:only-of-type {\n",
       "        vertical-align: middle;\n",
       "    }\n",
       "\n",
       "    .dataframe tbody tr th {\n",
       "        vertical-align: top;\n",
       "    }\n",
       "\n",
       "    .dataframe thead th {\n",
       "        text-align: right;\n",
       "    }\n",
       "</style>\n",
       "<table border=\"1\" class=\"dataframe\">\n",
       "  <thead>\n",
       "    <tr style=\"text-align: right;\">\n",
       "      <th></th>\n",
       "      <th>fixed acidity</th>\n",
       "      <th>volatile acidity</th>\n",
       "      <th>citric acid</th>\n",
       "      <th>residual sugar</th>\n",
       "      <th>chlorides</th>\n",
       "      <th>free sulfur dioxide</th>\n",
       "      <th>total sulfur dioxide</th>\n",
       "      <th>density</th>\n",
       "      <th>pH</th>\n",
       "      <th>sulphates</th>\n",
       "      <th>alcohol</th>\n",
       "      <th>quality</th>\n",
       "    </tr>\n",
       "  </thead>\n",
       "  <tbody>\n",
       "    <tr>\n",
       "      <th>0</th>\n",
       "      <td>7.4</td>\n",
       "      <td>0.70</td>\n",
       "      <td>0.00</td>\n",
       "      <td>1.9</td>\n",
       "      <td>0.076</td>\n",
       "      <td>11.0</td>\n",
       "      <td>34.0</td>\n",
       "      <td>0.9978</td>\n",
       "      <td>3.51</td>\n",
       "      <td>0.56</td>\n",
       "      <td>9.4</td>\n",
       "      <td>5</td>\n",
       "    </tr>\n",
       "    <tr>\n",
       "      <th>1</th>\n",
       "      <td>7.8</td>\n",
       "      <td>0.88</td>\n",
       "      <td>0.00</td>\n",
       "      <td>2.6</td>\n",
       "      <td>0.098</td>\n",
       "      <td>25.0</td>\n",
       "      <td>67.0</td>\n",
       "      <td>0.9968</td>\n",
       "      <td>3.20</td>\n",
       "      <td>0.68</td>\n",
       "      <td>9.8</td>\n",
       "      <td>5</td>\n",
       "    </tr>\n",
       "    <tr>\n",
       "      <th>2</th>\n",
       "      <td>7.8</td>\n",
       "      <td>0.76</td>\n",
       "      <td>0.04</td>\n",
       "      <td>2.3</td>\n",
       "      <td>0.092</td>\n",
       "      <td>15.0</td>\n",
       "      <td>54.0</td>\n",
       "      <td>0.9970</td>\n",
       "      <td>3.26</td>\n",
       "      <td>0.65</td>\n",
       "      <td>9.8</td>\n",
       "      <td>5</td>\n",
       "    </tr>\n",
       "    <tr>\n",
       "      <th>3</th>\n",
       "      <td>11.2</td>\n",
       "      <td>0.28</td>\n",
       "      <td>0.56</td>\n",
       "      <td>1.9</td>\n",
       "      <td>0.075</td>\n",
       "      <td>17.0</td>\n",
       "      <td>60.0</td>\n",
       "      <td>0.9980</td>\n",
       "      <td>3.16</td>\n",
       "      <td>0.58</td>\n",
       "      <td>9.8</td>\n",
       "      <td>6</td>\n",
       "    </tr>\n",
       "    <tr>\n",
       "      <th>4</th>\n",
       "      <td>7.4</td>\n",
       "      <td>0.70</td>\n",
       "      <td>0.00</td>\n",
       "      <td>1.9</td>\n",
       "      <td>0.076</td>\n",
       "      <td>11.0</td>\n",
       "      <td>34.0</td>\n",
       "      <td>0.9978</td>\n",
       "      <td>3.51</td>\n",
       "      <td>0.56</td>\n",
       "      <td>9.4</td>\n",
       "      <td>5</td>\n",
       "    </tr>\n",
       "  </tbody>\n",
       "</table>\n",
       "</div>"
      ],
      "text/plain": [
       "   fixed acidity  volatile acidity  citric acid  residual sugar  chlorides  \\\n",
       "0            7.4              0.70         0.00             1.9      0.076   \n",
       "1            7.8              0.88         0.00             2.6      0.098   \n",
       "2            7.8              0.76         0.04             2.3      0.092   \n",
       "3           11.2              0.28         0.56             1.9      0.075   \n",
       "4            7.4              0.70         0.00             1.9      0.076   \n",
       "\n",
       "   free sulfur dioxide  total sulfur dioxide  density    pH  sulphates  \\\n",
       "0                 11.0                  34.0   0.9978  3.51       0.56   \n",
       "1                 25.0                  67.0   0.9968  3.20       0.68   \n",
       "2                 15.0                  54.0   0.9970  3.26       0.65   \n",
       "3                 17.0                  60.0   0.9980  3.16       0.58   \n",
       "4                 11.0                  34.0   0.9978  3.51       0.56   \n",
       "\n",
       "   alcohol  quality  \n",
       "0      9.4        5  \n",
       "1      9.8        5  \n",
       "2      9.8        5  \n",
       "3      9.8        6  \n",
       "4      9.4        5  "
      ]
     },
     "execution_count": 146,
     "metadata": {},
     "output_type": "execute_result"
    }
   ],
   "source": [
    "data_df = pd.read_csv ('winequality-red.csv', delimiter=',')\n",
    "data_df.head()"
   ]
  },
  {
   "cell_type": "code",
   "execution_count": 147,
   "metadata": {},
   "outputs": [
    {
     "name": "stdout",
     "output_type": "stream",
     "text": [
      "Rows, columns: (1599, 12)\n"
     ]
    }
   ],
   "source": [
    "print(\"Rows, columns: \" + str(data_df.shape))"
   ]
  },
  {
   "cell_type": "code",
   "execution_count": 148,
   "metadata": {},
   "outputs": [
    {
     "data": {
      "text/plain": [
       "fixed acidity           0\n",
       "volatile acidity        0\n",
       "citric acid             0\n",
       "residual sugar          0\n",
       "chlorides               0\n",
       "free sulfur dioxide     0\n",
       "total sulfur dioxide    0\n",
       "density                 0\n",
       "pH                      0\n",
       "sulphates               0\n",
       "alcohol                 0\n",
       "quality                 0\n",
       "dtype: int64"
      ]
     },
     "execution_count": 148,
     "metadata": {},
     "output_type": "execute_result"
    }
   ],
   "source": [
    "data_df.isnull().sum()"
   ]
  },
  {
   "cell_type": "markdown",
   "metadata": {},
   "source": [
    "<h4>Note: As shown above, since there is no missing data in our red wine dataset, we did not do any data cleaning.</h4>"
   ]
  },
  {
   "cell_type": "markdown",
   "metadata": {},
   "source": [
    "<h2 style=\"background-color:lightpink;border-radius:5px;text-align:center;padding:10px;color:white;\">2. Exploratory Data Analysis (EDA)</h2>"
   ]
  },
  {
   "cell_type": "markdown",
   "metadata": {},
   "source": [
    "<h3>2A. Descriptive Statistical Analysis</h3>\n",
    "After cleaning the data, we used the describe() function once again to look at the statistical summary of the numerical variables.\n",
    "\n",
    "<h4>Insights:</h4>\n",
    "From the describe() function, it computes a summary of statistics details like mean, percentile and standard deviation of the numerical values of the red wine quality dataset. Highlights of descriptive statistics are given below:\n",
    "\n",
    "- Fixed acidity: The total of most acids involved with wine or fixed or nonvolatile has a mean value of 8.32 g/dm3 and median value of 7.90 g/dm3.\n",
    "- Volatile acidity: The amount of acetic acid in wine has a mean value of 0.528 g/dm3 and median value of 0.520 g/dm3.\n",
    "- Citric acid: Found in small quantities and a mean value of 0.271.  \n",
    "- Residual sugar: About 75% of the wines have a residual value below 2.6 g/dm3, while the remaining 25% of the wines have a residual value from range 2.6 to 15.5.        \n",
    "- Chlorides: Giving the wine a salty flavor, chlorides are mostly 0.079 g/dm3.      \n",
    "- Free sulfur dioxide:  About 75% of the wines has a free sulfur dioxide value below 21 mg/dm3.    \n",
    "- Total sulfur dioxide: About 75% of the wines has a sulfur dioxide value below 62 mg/dm3.    \n",
    "- Density: Most wines have a mean value of 0.9967 and median value of 0.9968.                 \n",
    "- pH: Most wines have a pH level of about 3.31.             \n",
    "- Sulphates: The wine additive ranges between 0.33 g/dm3 to 2 g/dm3, with most wines having a sulphte amount of 0.62 g/dm3.              \n",
    "- Alcohol: The percentage alcohol content of the wines are mostly 10.2%. \n",
    "- Quality: Wine scores are in range between 3 to 8 and most of them have a score of 5."
   ]
  },
  {
   "cell_type": "code",
   "execution_count": 149,
   "metadata": {},
   "outputs": [
    {
     "name": "stdout",
     "output_type": "stream",
     "text": [
      "<class 'pandas.core.frame.DataFrame'>\n",
      "RangeIndex: 1599 entries, 0 to 1598\n",
      "Data columns (total 12 columns):\n",
      " #   Column                Non-Null Count  Dtype  \n",
      "---  ------                --------------  -----  \n",
      " 0   fixed acidity         1599 non-null   float64\n",
      " 1   volatile acidity      1599 non-null   float64\n",
      " 2   citric acid           1599 non-null   float64\n",
      " 3   residual sugar        1599 non-null   float64\n",
      " 4   chlorides             1599 non-null   float64\n",
      " 5   free sulfur dioxide   1599 non-null   float64\n",
      " 6   total sulfur dioxide  1599 non-null   float64\n",
      " 7   density               1599 non-null   float64\n",
      " 8   pH                    1599 non-null   float64\n",
      " 9   sulphates             1599 non-null   float64\n",
      " 10  alcohol               1599 non-null   float64\n",
      " 11  quality               1599 non-null   int64  \n",
      "dtypes: float64(11), int64(1)\n",
      "memory usage: 150.0 KB\n"
     ]
    }
   ],
   "source": [
    "data_df.info()"
   ]
  },
  {
   "cell_type": "code",
   "execution_count": 150,
   "metadata": {},
   "outputs": [
    {
     "data": {
      "text/html": [
       "<div>\n",
       "<style scoped>\n",
       "    .dataframe tbody tr th:only-of-type {\n",
       "        vertical-align: middle;\n",
       "    }\n",
       "\n",
       "    .dataframe tbody tr th {\n",
       "        vertical-align: top;\n",
       "    }\n",
       "\n",
       "    .dataframe thead th {\n",
       "        text-align: right;\n",
       "    }\n",
       "</style>\n",
       "<table border=\"1\" class=\"dataframe\">\n",
       "  <thead>\n",
       "    <tr style=\"text-align: right;\">\n",
       "      <th></th>\n",
       "      <th>fixed acidity</th>\n",
       "      <th>volatile acidity</th>\n",
       "      <th>citric acid</th>\n",
       "      <th>residual sugar</th>\n",
       "      <th>chlorides</th>\n",
       "      <th>free sulfur dioxide</th>\n",
       "      <th>total sulfur dioxide</th>\n",
       "      <th>density</th>\n",
       "      <th>pH</th>\n",
       "      <th>sulphates</th>\n",
       "      <th>alcohol</th>\n",
       "      <th>quality</th>\n",
       "    </tr>\n",
       "  </thead>\n",
       "  <tbody>\n",
       "    <tr>\n",
       "      <th>count</th>\n",
       "      <td>1599.000000</td>\n",
       "      <td>1599.000000</td>\n",
       "      <td>1599.000000</td>\n",
       "      <td>1599.000000</td>\n",
       "      <td>1599.000000</td>\n",
       "      <td>1599.000000</td>\n",
       "      <td>1599.000000</td>\n",
       "      <td>1599.000000</td>\n",
       "      <td>1599.000000</td>\n",
       "      <td>1599.000000</td>\n",
       "      <td>1599.000000</td>\n",
       "      <td>1599.000000</td>\n",
       "    </tr>\n",
       "    <tr>\n",
       "      <th>mean</th>\n",
       "      <td>8.319637</td>\n",
       "      <td>0.527821</td>\n",
       "      <td>0.270976</td>\n",
       "      <td>2.538806</td>\n",
       "      <td>0.087467</td>\n",
       "      <td>15.874922</td>\n",
       "      <td>46.467792</td>\n",
       "      <td>0.996747</td>\n",
       "      <td>3.311113</td>\n",
       "      <td>0.658149</td>\n",
       "      <td>10.422983</td>\n",
       "      <td>5.636023</td>\n",
       "    </tr>\n",
       "    <tr>\n",
       "      <th>std</th>\n",
       "      <td>1.741096</td>\n",
       "      <td>0.179060</td>\n",
       "      <td>0.194801</td>\n",
       "      <td>1.409928</td>\n",
       "      <td>0.047065</td>\n",
       "      <td>10.460157</td>\n",
       "      <td>32.895324</td>\n",
       "      <td>0.001887</td>\n",
       "      <td>0.154386</td>\n",
       "      <td>0.169507</td>\n",
       "      <td>1.065668</td>\n",
       "      <td>0.807569</td>\n",
       "    </tr>\n",
       "    <tr>\n",
       "      <th>min</th>\n",
       "      <td>4.600000</td>\n",
       "      <td>0.120000</td>\n",
       "      <td>0.000000</td>\n",
       "      <td>0.900000</td>\n",
       "      <td>0.012000</td>\n",
       "      <td>1.000000</td>\n",
       "      <td>6.000000</td>\n",
       "      <td>0.990070</td>\n",
       "      <td>2.740000</td>\n",
       "      <td>0.330000</td>\n",
       "      <td>8.400000</td>\n",
       "      <td>3.000000</td>\n",
       "    </tr>\n",
       "    <tr>\n",
       "      <th>25%</th>\n",
       "      <td>7.100000</td>\n",
       "      <td>0.390000</td>\n",
       "      <td>0.090000</td>\n",
       "      <td>1.900000</td>\n",
       "      <td>0.070000</td>\n",
       "      <td>7.000000</td>\n",
       "      <td>22.000000</td>\n",
       "      <td>0.995600</td>\n",
       "      <td>3.210000</td>\n",
       "      <td>0.550000</td>\n",
       "      <td>9.500000</td>\n",
       "      <td>5.000000</td>\n",
       "    </tr>\n",
       "    <tr>\n",
       "      <th>50%</th>\n",
       "      <td>7.900000</td>\n",
       "      <td>0.520000</td>\n",
       "      <td>0.260000</td>\n",
       "      <td>2.200000</td>\n",
       "      <td>0.079000</td>\n",
       "      <td>14.000000</td>\n",
       "      <td>38.000000</td>\n",
       "      <td>0.996750</td>\n",
       "      <td>3.310000</td>\n",
       "      <td>0.620000</td>\n",
       "      <td>10.200000</td>\n",
       "      <td>6.000000</td>\n",
       "    </tr>\n",
       "    <tr>\n",
       "      <th>75%</th>\n",
       "      <td>9.200000</td>\n",
       "      <td>0.640000</td>\n",
       "      <td>0.420000</td>\n",
       "      <td>2.600000</td>\n",
       "      <td>0.090000</td>\n",
       "      <td>21.000000</td>\n",
       "      <td>62.000000</td>\n",
       "      <td>0.997835</td>\n",
       "      <td>3.400000</td>\n",
       "      <td>0.730000</td>\n",
       "      <td>11.100000</td>\n",
       "      <td>6.000000</td>\n",
       "    </tr>\n",
       "    <tr>\n",
       "      <th>max</th>\n",
       "      <td>15.900000</td>\n",
       "      <td>1.580000</td>\n",
       "      <td>1.000000</td>\n",
       "      <td>15.500000</td>\n",
       "      <td>0.611000</td>\n",
       "      <td>72.000000</td>\n",
       "      <td>289.000000</td>\n",
       "      <td>1.003690</td>\n",
       "      <td>4.010000</td>\n",
       "      <td>2.000000</td>\n",
       "      <td>14.900000</td>\n",
       "      <td>8.000000</td>\n",
       "    </tr>\n",
       "  </tbody>\n",
       "</table>\n",
       "</div>"
      ],
      "text/plain": [
       "       fixed acidity  volatile acidity  citric acid  residual sugar  \\\n",
       "count    1599.000000       1599.000000  1599.000000     1599.000000   \n",
       "mean        8.319637          0.527821     0.270976        2.538806   \n",
       "std         1.741096          0.179060     0.194801        1.409928   \n",
       "min         4.600000          0.120000     0.000000        0.900000   \n",
       "25%         7.100000          0.390000     0.090000        1.900000   \n",
       "50%         7.900000          0.520000     0.260000        2.200000   \n",
       "75%         9.200000          0.640000     0.420000        2.600000   \n",
       "max        15.900000          1.580000     1.000000       15.500000   \n",
       "\n",
       "         chlorides  free sulfur dioxide  total sulfur dioxide      density  \\\n",
       "count  1599.000000          1599.000000           1599.000000  1599.000000   \n",
       "mean      0.087467            15.874922             46.467792     0.996747   \n",
       "std       0.047065            10.460157             32.895324     0.001887   \n",
       "min       0.012000             1.000000              6.000000     0.990070   \n",
       "25%       0.070000             7.000000             22.000000     0.995600   \n",
       "50%       0.079000            14.000000             38.000000     0.996750   \n",
       "75%       0.090000            21.000000             62.000000     0.997835   \n",
       "max       0.611000            72.000000            289.000000     1.003690   \n",
       "\n",
       "                pH    sulphates      alcohol      quality  \n",
       "count  1599.000000  1599.000000  1599.000000  1599.000000  \n",
       "mean      3.311113     0.658149    10.422983     5.636023  \n",
       "std       0.154386     0.169507     1.065668     0.807569  \n",
       "min       2.740000     0.330000     8.400000     3.000000  \n",
       "25%       3.210000     0.550000     9.500000     5.000000  \n",
       "50%       3.310000     0.620000    10.200000     6.000000  \n",
       "75%       3.400000     0.730000    11.100000     6.000000  \n",
       "max       4.010000     2.000000    14.900000     8.000000  "
      ]
     },
     "execution_count": 150,
     "metadata": {},
     "output_type": "execute_result"
    }
   ],
   "source": [
    "data_df.describe()"
   ]
  },
  {
   "cell_type": "markdown",
   "metadata": {},
   "source": [
    "<h3>2B. Correlation Analysis</h3>\n",
    "Next, we conducted a Correlation Analysis to better understand the relationship between the 11 key factors affecting quality of red wine."
   ]
  },
  {
   "cell_type": "code",
   "execution_count": 151,
   "metadata": {},
   "outputs": [
    {
     "data": {
      "image/png": "[encoded data removed]",
      "text/plain": [
       "<Figure size 720x360 with 1 Axes>"
      ]
     },
     "metadata": {
      "needs_background": "light"
     },
     "output_type": "display_data"
    }
   ],
   "source": [
    "corr_mat = data_df.corr()\n",
    "plt.figure(figsize = (10,5))\n",
    "corr_mat['quality'].sort_values(ascending = False).plot(kind = 'bar');\n",
    "plt.title('Red Wine Correlation Bar Chart(Factors Vs Quality)')\n",
    "plt.xlabel('Red Wine Numeric Attributes')\n",
    "plt.ylabel('Correlation Factor')\n",
    "plt.show()"
   ]
  },
  {
   "cell_type": "code",
   "execution_count": 152,
   "metadata": {},
   "outputs": [
    {
     "data": {
      "image/png": "[encoded data removed]",
      "text/plain": [
       "<Figure size 720x576 with 2 Axes>"
      ]
     },
     "metadata": {
      "needs_background": "light"
     },
     "output_type": "display_data"
    }
   ],
   "source": [
    "#data_df_corr = data_df.corr()\n",
    "#data_df_corr.style.background_gradient(cmap = 'coolwarm').set_precision(2)\n",
    "import numpy as np\n",
    "rs = np.random.RandomState(33)\n",
    "\n",
    "\n",
    "\n",
    "# Generate a mask for the upper triangle\n",
    "mask = np.triu(np.ones_like(data_df.corr(), dtype=bool))\n",
    "\n",
    "plt.figure(figsize=(10,8)) \n",
    "plt.title('Red Wine Correlation Matrix', fontsize = 16)\n",
    "p=sns.heatmap(data_df.corr(), linewidth = 0.5, annot=True, cmap='coolwarm',mask=mask) \n",
    "\n"
   ]
  },
  {
   "cell_type": "markdown",
   "metadata": {},
   "source": [
    "<h3 style=\"padding:5px;color:white;background-color:#C4E0E5;text-align: center;margin-left:auto;margin-right:auto;border-radius:10px;\">Insights on Correlation of Factor Vs Quality</h3>"
   ]
  },
  {
   "cell_type": "markdown",
   "metadata": {},
   "source": [
    "We identified four variables which had significant correlation with the red wine quality\n",
    "1. Alcohol Vs Quality(0.48) \n",
    "2. Sulphates Vs Quality(0.25)\n",
    "3. Critic Acid Vs Quality(0.23)\n",
    "4. Volatile acidity Vs Quality(-0.39)"
   ]
  },
  {
   "cell_type": "markdown",
   "metadata": {},
   "source": [
    "<h2 style=\"background-color:lightpink;border-radius:5px;text-align:center;padding:10px;color:white;\">3. Analysis of Factors affecting Red Wine quality -Data Visualization </h2>"
   ]
  },
  {
   "cell_type": "markdown",
   "metadata": {},
   "source": [
    "For the analysis of Factors affecting Red Wine quality, we are going to focus on the 4 most significant factors in the above section and have the analyzed their impact on Red Wine quality(score between 0 and 10). We will analyze 4 the attributes with the help of visualizations analysis.The analysis will comprise of the following sections:<br>\n",
    "\n",
    "<b>Part A: Analysis of Red Wine Quality</b>\n",
    "- Red Wine Quality distribution \n",
    "- Classification of quality\n",
    "\n",
    "<b>Part B:Analysis of each factor VS Quality</b><br>\n",
    "3A. Volatile acidity(acetic acid - g / dm^3) Vs Quality<br>\n",
    "3B. Citric acid(g / dm^3)\tVs Quality<br>\n",
    "3C. Sulphates(potassium sulphate - g / dm3) Vs Quality<br>\n",
    "3D. Alcohol(% by volume)\tVs Quality<br>\n",
    "\n"
   ]
  },
  {
   "cell_type": "markdown",
   "metadata": {},
   "source": [
    "<h3 style=\"background-color:#F4E2D8;text-align:center;padding:7px;border-radius:10px;width:75%;margin-left:auto;margin-right:auto\">Part A: Analysis and Classification of Red Wine Quality\n"
   ]
  },
  {
   "cell_type": "markdown",
   "metadata": {},
   "source": [
    "<h3 style=\"padding:5px;color:white;background-color:#C4E0E5;text-align: center;margin-left:auto;margin-right:auto;border-radius:10px;\">I: Distribution of Red Wine Quality</h3>"
   ]
  },
  {
   "cell_type": "code",
   "execution_count": 153,
   "metadata": {},
   "outputs": [
    {
     "data": {
      "text/plain": [
       "Text(0, 0.5, 'Count')"
      ]
     },
     "execution_count": 153,
     "metadata": {},
     "output_type": "execute_result"
    },
    {
     "data": {
      "image/png": "[encoded data removed]",
      "text/plain": [
       "<Figure size 720x432 with 1 Axes>"
      ]
     },
     "metadata": {
      "needs_background": "light"
     },
     "output_type": "display_data"
    }
   ],
   "source": [
    "fig = plt.figure(figsize=(10,6))\n",
    "ax1 = fig.add_subplot(1,1,1)\n",
    "\n",
    "sns.countplot(x = \"quality\", data = data_df, ax = ax1, palette=\"Reds\")\n",
    "ax1.set_title('Red Wine Quality Distribution', fontsize = 12)\n",
    "ax1.set_xlabel('Red Wine Quality')\n",
    "ax1.set_ylabel('Count')"
   ]
  },
  {
   "cell_type": "markdown",
   "metadata": {},
   "source": [
    "<h3 style=\"padding:5px;color:white;background-color:#C4E0E5;text-align: center;margin-left:auto;margin-right:auto;border-radius:10px;\">II: Classification of Red Wine Quality</h3>"
   ]
  },
  {
   "cell_type": "code",
   "execution_count": 154,
   "metadata": {},
   "outputs": [
    {
     "data": {
      "text/plain": [
       "count    1599.000000\n",
       "mean        5.636023\n",
       "std         0.807569\n",
       "min         3.000000\n",
       "25%         5.000000\n",
       "50%         6.000000\n",
       "75%         6.000000\n",
       "max         8.000000\n",
       "Name: quality, dtype: float64"
      ]
     },
     "execution_count": 154,
     "metadata": {},
     "output_type": "execute_result"
    }
   ],
   "source": [
    "data_df[\"quality\"].describe()"
   ]
  },
  {
   "cell_type": "markdown",
   "metadata": {},
   "source": [
    "<h3>Insights</h3>\n",
    "1. Quality ranges from 3 to 8<br>\n",
    "2. Majority of wine which have a middle quality of 5 and 6<br>\n",
    "\n",
    "<b><u>Defining a good quality wine</u></b><br>\n",
    "Also, since the median quality is  6  and mean quaity is  ∼5,6 , <b> we defined a bottle of wine as ‘good quality’ if it had a quality score of 7 or higher, and if it had a score of less than 7, it was deemed ‘poor quality’.</b>\n"
   ]
  },
  {
   "cell_type": "markdown",
   "metadata": {},
   "source": [
    "<hr>"
   ]
  },
  {
   "cell_type": "markdown",
   "metadata": {},
   "source": [
    "<h3 style=\"background-color:#F4E2D8;text-align:center;padding:7px;border-radius:10px;width:75%;margin-left:auto;margin-right:auto\">Part B:Analysis of each factor VS Quality</h3>\n"
   ]
  },
  {
   "cell_type": "markdown",
   "metadata": {},
   "source": [
    "In this section, we will only focus on the 4 most significant variables(Volatile acidity,Citric acid(g / dm^3), Sulphates and Alcohol) as mentioned in the correlation matrix above. We will dive deeper to analyse the relationship between each of the 4 factors and the red wine quality and produce some insights from it. Using the insights, we will be suggesting some useful recommendations that our client, Jewel wine can take into consideration in order to produce a good quality wine."
   ]
  },
  {
   "cell_type": "markdown",
   "metadata": {},
   "source": [
    "<h3 style=\"background-color:#F4E2D8;text-align:center;width:75%;padding:5px;border-radius:10px;margin-left:auto;margin-right:auto\">3A. Volatile acidity Vs Quality</h3>"
   ]
  },
  {
   "cell_type": "markdown",
   "metadata": {},
   "source": [
    "<h3 style=\"padding:5px;color:white;background-color:#C4E0E5;text-align: center;margin-left:auto;margin-right:auto;border-radius:10px;\">I: Removing Outliers for Volatile Acidity</h3>"
   ]
  },
  {
   "cell_type": "code",
   "execution_count": 155,
   "metadata": {},
   "outputs": [
    {
     "name": "stdout",
     "output_type": "stream",
     "text": [
      "0.39\n",
      "0.64\n",
      "0.015000000000000013\n",
      "1.0150000000000001\n",
      "1580\n"
     ]
    }
   ],
   "source": [
    "#REMOVING OUTLIERS OF FIXED ACIDITY\n",
    "va_quartile_1=data_df[\"volatile acidity\"].quantile(q=0.25) \n",
    "va_quartile_3=data_df[\"volatile acidity\"].quantile(q=0.75)\n",
    "print(va_quartile_1)\n",
    "print(va_quartile_3)\n",
    "\n",
    "va_IQR=va_quartile_3-va_quartile_1\n",
    "\n",
    "va_lower_bound=float(va_quartile_1-1.5*va_IQR)\n",
    "va_upper_bound=float(va_quartile_3+1.5*va_IQR)\n",
    "print(va_lower_bound) #max value--> any thing outside max or min value--> outliers\n",
    "print(va_upper_bound)#min value\n",
    "\n",
    "va_cond1=data_df[\"volatile acidity\"]>=va_lower_bound\n",
    "va_cond2=data_df[\"volatile acidity\"]<=va_upper_bound\n",
    "data_df_no_va_outlier=data_df[va_cond1 & va_cond2]\n",
    "print(len(data_df_no_va_outlier))"
   ]
  },
  {
   "cell_type": "markdown",
   "metadata": {},
   "source": [
    "<h3 style=\"padding:5px;color:white;background-color:#C4E0E5;text-align: center;margin-left:auto;margin-right:auto;border-radius:10px;\">II: Range of volatile acidity that gives better quality wine<br>(supporting evidence for boxplot)</h3>"
   ]
  },
  {
   "cell_type": "code",
   "execution_count": 156,
   "metadata": {},
   "outputs": [
    {
     "data": {
      "text/html": [
       "<div>\n",
       "<style scoped>\n",
       "    .dataframe tbody tr th:only-of-type {\n",
       "        vertical-align: middle;\n",
       "    }\n",
       "\n",
       "    .dataframe tbody tr th {\n",
       "        vertical-align: top;\n",
       "    }\n",
       "\n",
       "    .dataframe thead th {\n",
       "        text-align: right;\n",
       "    }\n",
       "</style>\n",
       "<table border=\"1\" class=\"dataframe\">\n",
       "  <thead>\n",
       "    <tr style=\"text-align: right;\">\n",
       "      <th></th>\n",
       "      <th>volatile acidity</th>\n",
       "      <th>quality</th>\n",
       "    </tr>\n",
       "  </thead>\n",
       "  <tbody>\n",
       "    <tr>\n",
       "      <th>count</th>\n",
       "      <td>217.000000</td>\n",
       "      <td>217.000000</td>\n",
       "    </tr>\n",
       "    <tr>\n",
       "      <th>mean</th>\n",
       "      <td>0.405530</td>\n",
       "      <td>7.082949</td>\n",
       "    </tr>\n",
       "    <tr>\n",
       "      <th>std</th>\n",
       "      <td>0.144963</td>\n",
       "      <td>0.276443</td>\n",
       "    </tr>\n",
       "    <tr>\n",
       "      <th>min</th>\n",
       "      <td>0.120000</td>\n",
       "      <td>7.000000</td>\n",
       "    </tr>\n",
       "    <tr>\n",
       "      <th>25%</th>\n",
       "      <td>0.300000</td>\n",
       "      <td>7.000000</td>\n",
       "    </tr>\n",
       "    <tr>\n",
       "      <th>50%</th>\n",
       "      <td>0.370000</td>\n",
       "      <td>7.000000</td>\n",
       "    </tr>\n",
       "    <tr>\n",
       "      <th>75%</th>\n",
       "      <td>0.490000</td>\n",
       "      <td>7.000000</td>\n",
       "    </tr>\n",
       "    <tr>\n",
       "      <th>max</th>\n",
       "      <td>0.915000</td>\n",
       "      <td>8.000000</td>\n",
       "    </tr>\n",
       "  </tbody>\n",
       "</table>\n",
       "</div>"
      ],
      "text/plain": [
       "       volatile acidity     quality\n",
       "count        217.000000  217.000000\n",
       "mean           0.405530    7.082949\n",
       "std            0.144963    0.276443\n",
       "min            0.120000    7.000000\n",
       "25%            0.300000    7.000000\n",
       "50%            0.370000    7.000000\n",
       "75%            0.490000    7.000000\n",
       "max            0.915000    8.000000"
      ]
     },
     "execution_count": 156,
     "metadata": {},
     "output_type": "execute_result"
    }
   ],
   "source": [
    "better_quality_va=data_df_no_va_outlier[data_df_no_va_outlier[\"quality\"].isin([7,8])]\n",
    "better_quality_va[[\"volatile acidity\",\"quality\"]].describe()"
   ]
  },
  {
   "cell_type": "markdown",
   "metadata": {},
   "source": [
    "<h3 style=\"padding:5px;color:white;background-color:#C4E0E5;text-align: center;margin-left:auto;margin-right:auto;border-radius:10px;\">II: Range of volatile acidity that gives better quality wine<br>(supporting evidence for boxplot)</h3>"
   ]
  },
  {
   "cell_type": "code",
   "execution_count": 157,
   "metadata": {},
   "outputs": [
    {
     "data": {
      "text/html": [
       "<div>\n",
       "<style scoped>\n",
       "    .dataframe tbody tr th:only-of-type {\n",
       "        vertical-align: middle;\n",
       "    }\n",
       "\n",
       "    .dataframe tbody tr th {\n",
       "        vertical-align: top;\n",
       "    }\n",
       "\n",
       "    .dataframe thead th {\n",
       "        text-align: right;\n",
       "    }\n",
       "</style>\n",
       "<table border=\"1\" class=\"dataframe\">\n",
       "  <thead>\n",
       "    <tr style=\"text-align: right;\">\n",
       "      <th></th>\n",
       "      <th>volatile acidity</th>\n",
       "      <th>quality</th>\n",
       "    </tr>\n",
       "  </thead>\n",
       "  <tbody>\n",
       "    <tr>\n",
       "      <th>count</th>\n",
       "      <td>54.000000</td>\n",
       "      <td>54.00000</td>\n",
       "    </tr>\n",
       "    <tr>\n",
       "      <th>mean</th>\n",
       "      <td>0.656019</td>\n",
       "      <td>3.87037</td>\n",
       "    </tr>\n",
       "    <tr>\n",
       "      <th>std</th>\n",
       "      <td>0.184448</td>\n",
       "      <td>0.33905</td>\n",
       "    </tr>\n",
       "    <tr>\n",
       "      <th>min</th>\n",
       "      <td>0.230000</td>\n",
       "      <td>3.00000</td>\n",
       "    </tr>\n",
       "    <tr>\n",
       "      <th>25%</th>\n",
       "      <td>0.522500</td>\n",
       "      <td>4.00000</td>\n",
       "    </tr>\n",
       "    <tr>\n",
       "      <th>50%</th>\n",
       "      <td>0.632500</td>\n",
       "      <td>4.00000</td>\n",
       "    </tr>\n",
       "    <tr>\n",
       "      <th>75%</th>\n",
       "      <td>0.807500</td>\n",
       "      <td>4.00000</td>\n",
       "    </tr>\n",
       "    <tr>\n",
       "      <th>max</th>\n",
       "      <td>0.980000</td>\n",
       "      <td>4.00000</td>\n",
       "    </tr>\n",
       "  </tbody>\n",
       "</table>\n",
       "</div>"
      ],
      "text/plain": [
       "       volatile acidity   quality\n",
       "count         54.000000  54.00000\n",
       "mean           0.656019   3.87037\n",
       "std            0.184448   0.33905\n",
       "min            0.230000   3.00000\n",
       "25%            0.522500   4.00000\n",
       "50%            0.632500   4.00000\n",
       "75%            0.807500   4.00000\n",
       "max            0.980000   4.00000"
      ]
     },
     "execution_count": 157,
     "metadata": {},
     "output_type": "execute_result"
    }
   ],
   "source": [
    "poorer_quality_va=data_df_no_va_outlier[data_df_no_va_outlier[\"quality\"].isin([3,4])]\n",
    "poorer_quality_va[[\"volatile acidity\",\"quality\"]].describe()"
   ]
  },
  {
   "cell_type": "markdown",
   "metadata": {},
   "source": [
    "<h3 style=\"padding:5px;color:white;background-color:#C4E0E5;text-align: center;margin-left:auto;margin-right:auto;border-radius:10px;\">III: Plotting of graphs--Volatile Acidity VS Quality</h3>"
   ]
  },
  {
   "cell_type": "code",
   "execution_count": 158,
   "metadata": {},
   "outputs": [
    {
     "data": {
      "text/plain": [
       "Text(0.5, 0.98, 'Correlation of Volatile Acidity and Quality')"
      ]
     },
     "execution_count": 158,
     "metadata": {},
     "output_type": "execute_result"
    },
    {
     "data": {
      "image/png": "[encoded data removed]",
      "text/plain": [
       "<Figure size 1152x720 with 3 Axes>"
      ]
     },
     "metadata": {
      "needs_background": "light"
     },
     "output_type": "display_data"
    },
    {
     "data": {
      "image/png": "[encoded data removed]",
      "text/plain": [
       "<Figure size 432x432 with 3 Axes>"
      ]
     },
     "metadata": {
      "needs_background": "light"
     },
     "output_type": "display_data"
    }
   ],
   "source": [
    "figure = plt.figure(figsize=(16,10))\n",
    "\n",
    "# Distribution of Volatile acidity\n",
    "ax1 = figure.add_subplot(2, 2, 1)\n",
    "sns.distplot(data_df_no_va_outlier['volatile acidity'],\n",
    "             kde=False,\n",
    "             norm_hist=False,\n",
    "             bins=50,\n",
    "             color='red',\n",
    "             ax=ax1).set_title('Distribution of Volatile Acidity')\n",
    "ax1.set_ylabel(\"Count\")\n",
    "\n",
    "# Distribution of Quality\n",
    "ax2 = figure.add_subplot(2, 2, 2)\n",
    "sns.distplot(data_df_no_va_outlier['quality'],\n",
    "             bins=50,\n",
    "             ax=ax2).set_title('Distribution of Quality') \n",
    "ax2.set_ylabel(\"Count\")\n",
    "\n",
    "# Boxplot\n",
    "ax3 = figure.add_subplot(2, 2, 3)\n",
    "sns.boxplot(data = data_df_no_va_outlier, x = 'quality', y = 'volatile acidity',ax=ax3).set_title(\"Boxplot of Volatile Acidity and Quality\")\n",
    "\n",
    "plt.suptitle(\"Volatile Acidity vs Quality\", fontsize=15)\n",
    "\n",
    "# Correlation of Volatile Acidity and Quality\n",
    "sns.jointplot(x = \"volatile acidity\", y = \"quality\", \n",
    "              kind = \"reg\", data = data_df_no_va_outlier, \n",
    "              dropna = True,color='sandybrown')\n",
    "plt.suptitle(\"Correlation of Volatile Acidity and Quality\") \n"
   ]
  },
  {
   "cell_type": "markdown",
   "metadata": {},
   "source": [
    "<h3 style=\"padding:5px;color:white;background-color:#C4E0E5;text-align: center;margin-left:auto;margin-right:auto;border-radius:10px;\">IV: Insights</h3><br>\n",
    "a) <u><b>Distribution Chart of Volatile Acidity:</b></u><br>\n",
    "The quantity of volatile acidity ranges between 0.12 to 0.98 g/dm^3 where the distribution mainly clusters around 0.37 to 0.63 g/dm^3. \n",
    "\n",
    "b) <u><b>Distribution Chart of Quality:</b></u><br>\n",
    "We can see that the chart is middle-skewed where most of the wine quality ranges from 5 to 6 which implies that most of the red wine possess middle quality.\n",
    "\n",
    "c) <u><b>Boxplot for Volatile Acidity:</b></u><br>\n",
    "For a better wine quality of 7 to 8, the quantity of volatile acidity ranges from 0.30 to 0.49 g/dm^3. \n",
    "Whereas for a lower wine quality of 3 to 4, the quantity of volatile acidity will range from 0.50 to 0.80 g.dm^3. This might implies that as the quality of the wine decreases, the quantity of volatile acidity required also increases. However, this is exceptional for the good quality wine of 7 and 8 as both have the similar quantity of volatile acidity. \n",
    "\n",
    "d) <u><b>Joint Plot for Volatile Acidity and Quality:</b></u><br>\n",
    "We have combined the two distribution charts together to see their relationship. We learned that there is an negative relationship between volatile acidity and quality as the orange line shows a negative linear graph. This evidences the results from the boxplot where the increase in volatile acidity shows a decrease in quality.\n",
    "\n",
    "<b><u>Recommendations</u></b><br>\n",
    "Hence, we suggest our client, Jewel wine to lessen the composition of volatile acidity to produce a good quality wine. A good amount of volatile acid composition would be around 0.30 to 0.49 g/dm^3. This is because volatile acid is the amount of acetic acid in wine, which at too high of levels can lead to an unpleasant, vinegar taste. "
   ]
  },
  {
   "cell_type": "markdown",
   "metadata": {},
   "source": [
    "<hr>"
   ]
  },
  {
   "cell_type": "markdown",
   "metadata": {},
   "source": [
    "<h3 style=\"background-color:#F4E2D8;text-align:center;padding:5px;border-radius:10px;margin-left:auto;margin-right:auto;width:75%\">3B. Citric acid Vs Quality</h3>"
   ]
  },
  {
   "cell_type": "markdown",
   "metadata": {},
   "source": [
    "<h3 style=\"padding:5px;color:white;background-color:#C4E0E5;text-align: center;margin-left:auto;margin-right:auto;border-radius:10px;\">I: Removing Outliers for Citric Acid</h3>"
   ]
  },
  {
   "cell_type": "code",
   "execution_count": 159,
   "metadata": {},
   "outputs": [
    {
     "name": "stdout",
     "output_type": "stream",
     "text": [
      "0.09\n",
      "0.42\n",
      "-0.4049999999999999\n",
      "0.9149999999999999\n",
      "1598\n"
     ]
    }
   ],
   "source": [
    "#REMOVING OUTLIERS OF CITRIC ACIDITY\n",
    "ca_quartile_1=data_df[\"citric acid\"].quantile(q=0.25) \n",
    "ca_quartile_3=data_df[\"citric acid\"].quantile(q=0.75)\n",
    "print(ca_quartile_1)\n",
    "print(ca_quartile_3)\n",
    "\n",
    "ca_IQR=ca_quartile_3-ca_quartile_1\n",
    "\n",
    "ca_lower_bound=float(ca_quartile_1-1.5*ca_IQR)\n",
    "ca_upper_bound=float(ca_quartile_3+1.5*ca_IQR)\n",
    "print(ca_lower_bound) #max value--> any thing outside max or min value--> outliers\n",
    "print(ca_upper_bound) #min value\n",
    "\n",
    "ca_cond1=data_df[\"citric acid\"]>=ca_lower_bound\n",
    "ca_cond2=data_df[\"citric acid\"]<=ca_upper_bound\n",
    "data_df_no_ca_outlier=data_df[ca_cond1 & ca_cond2]\n",
    "print(len(data_df_no_ca_outlier))"
   ]
  },
  {
   "cell_type": "markdown",
   "metadata": {},
   "source": [
    "<h3 style=\"padding:5px;color:white;background-color:#C4E0E5;text-align: center;margin-left:auto;margin-right:auto;border-radius:10px;\">II: Range of Citric Acid that gives better quality wine<br>(supporting evidence for boxplot)</h3>"
   ]
  },
  {
   "cell_type": "code",
   "execution_count": 160,
   "metadata": {},
   "outputs": [
    {
     "data": {
      "text/html": [
       "<div>\n",
       "<style scoped>\n",
       "    .dataframe tbody tr th:only-of-type {\n",
       "        vertical-align: middle;\n",
       "    }\n",
       "\n",
       "    .dataframe tbody tr th {\n",
       "        vertical-align: top;\n",
       "    }\n",
       "\n",
       "    .dataframe thead th {\n",
       "        text-align: right;\n",
       "    }\n",
       "</style>\n",
       "<table border=\"1\" class=\"dataframe\">\n",
       "  <thead>\n",
       "    <tr style=\"text-align: right;\">\n",
       "      <th></th>\n",
       "      <th>citric acid</th>\n",
       "      <th>quality</th>\n",
       "    </tr>\n",
       "  </thead>\n",
       "  <tbody>\n",
       "    <tr>\n",
       "      <th>count</th>\n",
       "      <td>217.000000</td>\n",
       "      <td>217.000000</td>\n",
       "    </tr>\n",
       "    <tr>\n",
       "      <th>mean</th>\n",
       "      <td>0.376498</td>\n",
       "      <td>7.082949</td>\n",
       "    </tr>\n",
       "    <tr>\n",
       "      <th>std</th>\n",
       "      <td>0.194438</td>\n",
       "      <td>0.276443</td>\n",
       "    </tr>\n",
       "    <tr>\n",
       "      <th>min</th>\n",
       "      <td>0.000000</td>\n",
       "      <td>7.000000</td>\n",
       "    </tr>\n",
       "    <tr>\n",
       "      <th>25%</th>\n",
       "      <td>0.300000</td>\n",
       "      <td>7.000000</td>\n",
       "    </tr>\n",
       "    <tr>\n",
       "      <th>50%</th>\n",
       "      <td>0.400000</td>\n",
       "      <td>7.000000</td>\n",
       "    </tr>\n",
       "    <tr>\n",
       "      <th>75%</th>\n",
       "      <td>0.490000</td>\n",
       "      <td>7.000000</td>\n",
       "    </tr>\n",
       "    <tr>\n",
       "      <th>max</th>\n",
       "      <td>0.760000</td>\n",
       "      <td>8.000000</td>\n",
       "    </tr>\n",
       "  </tbody>\n",
       "</table>\n",
       "</div>"
      ],
      "text/plain": [
       "       citric acid     quality\n",
       "count   217.000000  217.000000\n",
       "mean      0.376498    7.082949\n",
       "std       0.194438    0.276443\n",
       "min       0.000000    7.000000\n",
       "25%       0.300000    7.000000\n",
       "50%       0.400000    7.000000\n",
       "75%       0.490000    7.000000\n",
       "max       0.760000    8.000000"
      ]
     },
     "execution_count": 160,
     "metadata": {},
     "output_type": "execute_result"
    }
   ],
   "source": [
    "better_quality_ca=data_df_no_ca_outlier[data_df_no_ca_outlier[\"quality\"].isin([7,8])]\n",
    "better_quality_ca[[\"citric acid\",\"quality\"]].describe()"
   ]
  },
  {
   "cell_type": "markdown",
   "metadata": {},
   "source": [
    "<h3 style=\"padding:5px;color:white;background-color:#C4E0E5;text-align: center;margin-left:auto;margin-right:auto;border-radius:10px;\">III: Range of citric acid that gives better quality wine<br>(supporting evidence for boxplot)</h3>"
   ]
  },
  {
   "cell_type": "code",
   "execution_count": 161,
   "metadata": {},
   "outputs": [
    {
     "data": {
      "text/html": [
       "<div>\n",
       "<style scoped>\n",
       "    .dataframe tbody tr th:only-of-type {\n",
       "        vertical-align: middle;\n",
       "    }\n",
       "\n",
       "    .dataframe tbody tr th {\n",
       "        vertical-align: top;\n",
       "    }\n",
       "\n",
       "    .dataframe thead th {\n",
       "        text-align: right;\n",
       "    }\n",
       "</style>\n",
       "<table border=\"1\" class=\"dataframe\">\n",
       "  <thead>\n",
       "    <tr style=\"text-align: right;\">\n",
       "      <th></th>\n",
       "      <th>citric acid</th>\n",
       "      <th>quality</th>\n",
       "    </tr>\n",
       "  </thead>\n",
       "  <tbody>\n",
       "    <tr>\n",
       "      <th>count</th>\n",
       "      <td>62.000000</td>\n",
       "      <td>62.000000</td>\n",
       "    </tr>\n",
       "    <tr>\n",
       "      <th>mean</th>\n",
       "      <td>0.160323</td>\n",
       "      <td>3.838710</td>\n",
       "    </tr>\n",
       "    <tr>\n",
       "      <th>std</th>\n",
       "      <td>0.179854</td>\n",
       "      <td>0.370801</td>\n",
       "    </tr>\n",
       "    <tr>\n",
       "      <th>min</th>\n",
       "      <td>0.000000</td>\n",
       "      <td>3.000000</td>\n",
       "    </tr>\n",
       "    <tr>\n",
       "      <th>25%</th>\n",
       "      <td>0.020000</td>\n",
       "      <td>4.000000</td>\n",
       "    </tr>\n",
       "    <tr>\n",
       "      <th>50%</th>\n",
       "      <td>0.075000</td>\n",
       "      <td>4.000000</td>\n",
       "    </tr>\n",
       "    <tr>\n",
       "      <th>75%</th>\n",
       "      <td>0.267500</td>\n",
       "      <td>4.000000</td>\n",
       "    </tr>\n",
       "    <tr>\n",
       "      <th>max</th>\n",
       "      <td>0.660000</td>\n",
       "      <td>4.000000</td>\n",
       "    </tr>\n",
       "  </tbody>\n",
       "</table>\n",
       "</div>"
      ],
      "text/plain": [
       "       citric acid    quality\n",
       "count    62.000000  62.000000\n",
       "mean      0.160323   3.838710\n",
       "std       0.179854   0.370801\n",
       "min       0.000000   3.000000\n",
       "25%       0.020000   4.000000\n",
       "50%       0.075000   4.000000\n",
       "75%       0.267500   4.000000\n",
       "max       0.660000   4.000000"
      ]
     },
     "execution_count": 161,
     "metadata": {},
     "output_type": "execute_result"
    }
   ],
   "source": [
    "poorer_quality_ca=data_df_no_ca_outlier[data_df_no_ca_outlier[\"quality\"].isin([3,4])]\n",
    "poorer_quality_ca[[\"citric acid\",\"quality\"]].describe()"
   ]
  },
  {
   "cell_type": "markdown",
   "metadata": {},
   "source": [
    "<h3 style=\"padding:5px;color:white;background-color:#C4E0E5;text-align: center;margin-left:auto;margin-right:auto;border-radius:10px;\">III: Plotting of graphs--Critic Acid VS Quality</h3>"
   ]
  },
  {
   "cell_type": "code",
   "execution_count": 162,
   "metadata": {},
   "outputs": [
    {
     "data": {
      "text/plain": [
       "Text(0.5, 0.98, 'Correlation of Citric Acid and Quality')"
      ]
     },
     "execution_count": 162,
     "metadata": {},
     "output_type": "execute_result"
    },
    {
     "data": {
      "image/png": "[encoded data removed]",
      "text/plain": [
       "<Figure size 1152x720 with 3 Axes>"
      ]
     },
     "metadata": {
      "needs_background": "light"
     },
     "output_type": "display_data"
    },
    {
     "data": {
      "image/png": "[encoded data removed]",
      "text/plain": [
       "<Figure size 432x432 with 3 Axes>"
      ]
     },
     "metadata": {
      "needs_background": "light"
     },
     "output_type": "display_data"
    }
   ],
   "source": [
    "figure = plt.figure(figsize=(16,10))\n",
    "\n",
    "# Distribution of Citric Acid\n",
    "ax1 = figure.add_subplot(2, 2, 1)\n",
    "sns.distplot(data_df_no_va_outlier['citric acid'],\n",
    "             kde=False,\n",
    "             norm_hist=False,\n",
    "             bins=50,\n",
    "             color='red',\n",
    "             ax=ax1).set_title('Distribution of Citric Acid')\n",
    "ax1.set_ylabel(\"Count\")\n",
    "\n",
    "# Distribution of Quality\n",
    "ax2 = figure.add_subplot(2, 2, 2)\n",
    "sns.distplot(data_df_no_va_outlier['quality'],\n",
    "             bins=50,\n",
    "             ax=ax2).set_title('Distribution of Quality') \n",
    "ax2.set_ylabel(\"Count\")\n",
    "\n",
    "# Boxplot\n",
    "ax3 = figure.add_subplot(2, 2, 3)\n",
    "sns.boxplot(data = data_df_no_va_outlier, x = 'quality', y = 'citric acid',ax=ax3).set_title(\"Boxplot of Citric Acid and Quality\")\n",
    "\n",
    "plt.suptitle(\"Citric Acid vs Quality\", fontsize=15)\n",
    "\n",
    "# Correlation of Citric Acid and Quality\n",
    "sns.jointplot(x = \"citric acid\", y = \"quality\", \n",
    "              kind = \"reg\", data = data_df_no_va_outlier, \n",
    "              dropna = True,color='sandybrown')\n",
    "plt.suptitle(\"Correlation of Citric Acid and Quality\") \n"
   ]
  },
  {
   "cell_type": "markdown",
   "metadata": {},
   "source": [
    "<h3 style=\"padding:5px;color:white;background-color:#C4E0E5;text-align: center;margin-left:auto;margin-right:auto;border-radius:10px;\">IV: Insights</h3><br>\n",
    "a) <u><b>Distribution Chart of Citric Acid:</b></u><br>\n",
    "The quantity of citric acid ranges between 0.00 to 0.76 g/dm^3 where the distribution mainly clusters around 0.075 to 0.76 g/dm^3. The quantity of critic acid is quite small in the oevrall quantity.\n",
    "\n",
    "b) <u><b>Distribution Chart of Quality:</b></u><br>\n",
    "We can see that the chart is middle-skewed where most of the wine quality ranges from 5 to 6 which implies that most of the red wine possess middle quality.\n",
    "\n",
    "c) <u><b>Boxplot for Citric Acid:</b></u><br>\n",
    "For a better wine quality of 7 to 8, the quantity of citric acid ranges from 0.30 to 0.49 g/dm^3. \n",
    "Whereas for a lower wine quality of 3 to 4, the quantity of citric acid will range from 0.02 to 0.27 g.dm^3. This might implies that as the quality of the wine increases, the quantity of citric acid required also increases. Note that, the quantity of volatile acidity of the good quality wine of 7 and 8 does not differ much.\n",
    "\n",
    "d) <u><b>Joint Plot for Citric Acid and Quality:</b></u><br>\n",
    "We have combined the two distribution charts together to see their relationship. We learned that there is an positive relationship between citric acid and quality as the orange line shows a positive linear graph. This evidences the results from the boxplot where the increase in citric acid shows a increase in quality.\n",
    "\n",
    "<b><u>Recommendations<u></b><br>\n",
    "Hence, we suggest our client, Jewel wine to increase the composition of critic acid acidity to produce a good quality wine. A good amount of critic acid composition would be around 0.30 to 0.49 g/dm^3 to produce a good qaulity wine. This is because critic acid is the essence to add ‘freshness’ and flavor to wines. \n"
   ]
  },
  {
   "cell_type": "markdown",
   "metadata": {},
   "source": [
    "<hr>"
   ]
  },
  {
   "cell_type": "markdown",
   "metadata": {},
   "source": [
    "<h3 style=\"background-color:#F4E2D8;text-align:center;padding:5px;border-radius:10px;margin-left:auto;margin-right:auto;width:75%\">3C. Sulphates Vs Quality</h3>"
   ]
  },
  {
   "cell_type": "markdown",
   "metadata": {},
   "source": [
    "<h3 style=\"padding:5px;color:white;background-color:#C4E0E5;text-align: center;margin-left:auto;margin-right:auto;border-radius:10px;\">I: Removing Outliers for Sulphates</h3>"
   ]
  },
  {
   "cell_type": "code",
   "execution_count": 163,
   "metadata": {},
   "outputs": [
    {
     "name": "stdout",
     "output_type": "stream",
     "text": [
      "0.55\n",
      "0.73\n",
      "0.28000000000000014\n",
      "0.9999999999999999\n"
     ]
    }
   ],
   "source": [
    "#REMOVING OUTLIERS OF FIXED ACIDITY\n",
    "sul_quantile = data_df.groupby(\"quality\")[\"sulphates\"].quantile([0.25, 0.75]).unstack(level=1)\n",
    "\n",
    "quartile_1=data_df[\"sulphates\"].quantile(q=0.25) # 25% of hourly rate data are below $29.09..isit normal\n",
    "quartile_3=data_df[\"sulphates\"].quantile(q=0.75)\n",
    "print(quartile_1)\n",
    "print(quartile_3)\n",
    "\n",
    "IQR=quartile_3-quartile_1\n",
    "\n",
    "lower_bound=float(quartile_1-1.5*IQR)\n",
    "upper_bound=float(quartile_3+1.5*IQR)\n",
    "print(lower_bound) #max value--> any thing outside max or min value--> outliers\n",
    "print(upper_bound)#min value\n",
    "\n",
    "cond1=data_df[\"sulphates\"]>=lower_bound\n",
    "cond2=data_df[\"sulphates\"]<=upper_bound\n",
    "data_df_no_outlier=data_df[cond1 & cond2]"
   ]
  },
  {
   "cell_type": "markdown",
   "metadata": {},
   "source": [
    "<h3 style=\"padding:5px;color:white;background-color:#C4E0E5;text-align: center;margin-left:auto;margin-right:auto;border-radius:10px;\">II: Range of Sulphates that gives better quality wine<br>(supporting evidence for boxplot)</h3>"
   ]
  },
  {
   "cell_type": "code",
   "execution_count": 164,
   "metadata": {},
   "outputs": [
    {
     "data": {
      "text/html": [
       "<div>\n",
       "<style scoped>\n",
       "    .dataframe tbody tr th:only-of-type {\n",
       "        vertical-align: middle;\n",
       "    }\n",
       "\n",
       "    .dataframe tbody tr th {\n",
       "        vertical-align: top;\n",
       "    }\n",
       "\n",
       "    .dataframe thead th {\n",
       "        text-align: right;\n",
       "    }\n",
       "</style>\n",
       "<table border=\"1\" class=\"dataframe\">\n",
       "  <thead>\n",
       "    <tr style=\"text-align: right;\">\n",
       "      <th></th>\n",
       "      <th>sulphates</th>\n",
       "      <th>quality</th>\n",
       "    </tr>\n",
       "  </thead>\n",
       "  <tbody>\n",
       "    <tr>\n",
       "      <th>count</th>\n",
       "      <td>207.000000</td>\n",
       "      <td>207.000000</td>\n",
       "    </tr>\n",
       "    <tr>\n",
       "      <th>mean</th>\n",
       "      <td>0.726522</td>\n",
       "      <td>7.082126</td>\n",
       "    </tr>\n",
       "    <tr>\n",
       "      <th>std</th>\n",
       "      <td>0.110077</td>\n",
       "      <td>0.275222</td>\n",
       "    </tr>\n",
       "    <tr>\n",
       "      <th>min</th>\n",
       "      <td>0.390000</td>\n",
       "      <td>7.000000</td>\n",
       "    </tr>\n",
       "    <tr>\n",
       "      <th>25%</th>\n",
       "      <td>0.650000</td>\n",
       "      <td>7.000000</td>\n",
       "    </tr>\n",
       "    <tr>\n",
       "      <th>50%</th>\n",
       "      <td>0.740000</td>\n",
       "      <td>7.000000</td>\n",
       "    </tr>\n",
       "    <tr>\n",
       "      <th>75%</th>\n",
       "      <td>0.815000</td>\n",
       "      <td>7.000000</td>\n",
       "    </tr>\n",
       "    <tr>\n",
       "      <th>max</th>\n",
       "      <td>0.990000</td>\n",
       "      <td>8.000000</td>\n",
       "    </tr>\n",
       "  </tbody>\n",
       "</table>\n",
       "</div>"
      ],
      "text/plain": [
       "        sulphates     quality\n",
       "count  207.000000  207.000000\n",
       "mean     0.726522    7.082126\n",
       "std      0.110077    0.275222\n",
       "min      0.390000    7.000000\n",
       "25%      0.650000    7.000000\n",
       "50%      0.740000    7.000000\n",
       "75%      0.815000    7.000000\n",
       "max      0.990000    8.000000"
      ]
     },
     "execution_count": 164,
     "metadata": {},
     "output_type": "execute_result"
    }
   ],
   "source": [
    "better_quality_sul=data_df_no_outlier[data_df_no_outlier[\"quality\"].isin([7,8])]\n",
    "better_quality_sul[[\"sulphates\",\"quality\"]].describe()"
   ]
  },
  {
   "cell_type": "markdown",
   "metadata": {},
   "source": [
    "<h3 style=\"padding:5px;color:white;background-color:#C4E0E5;text-align: center;margin-left:auto;margin-right:auto;border-radius:10px;\">II: Range of Sulphates that gives poorer quality wine<br>(supporting evidence for boxplot)</h3>"
   ]
  },
  {
   "cell_type": "code",
   "execution_count": 165,
   "metadata": {},
   "outputs": [
    {
     "data": {
      "text/html": [
       "<div>\n",
       "<style scoped>\n",
       "    .dataframe tbody tr th:only-of-type {\n",
       "        vertical-align: middle;\n",
       "    }\n",
       "\n",
       "    .dataframe tbody tr th {\n",
       "        vertical-align: top;\n",
       "    }\n",
       "\n",
       "    .dataframe thead th {\n",
       "        text-align: right;\n",
       "    }\n",
       "</style>\n",
       "<table border=\"1\" class=\"dataframe\">\n",
       "  <thead>\n",
       "    <tr style=\"text-align: right;\">\n",
       "      <th></th>\n",
       "      <th>sulphates</th>\n",
       "      <th>quality</th>\n",
       "    </tr>\n",
       "  </thead>\n",
       "  <tbody>\n",
       "    <tr>\n",
       "      <th>count</th>\n",
       "      <td>60.000000</td>\n",
       "      <td>60.000000</td>\n",
       "    </tr>\n",
       "    <tr>\n",
       "      <th>mean</th>\n",
       "      <td>0.551833</td>\n",
       "      <td>3.833333</td>\n",
       "    </tr>\n",
       "    <tr>\n",
       "      <th>std</th>\n",
       "      <td>0.094214</td>\n",
       "      <td>0.375823</td>\n",
       "    </tr>\n",
       "    <tr>\n",
       "      <th>min</th>\n",
       "      <td>0.330000</td>\n",
       "      <td>3.000000</td>\n",
       "    </tr>\n",
       "    <tr>\n",
       "      <th>25%</th>\n",
       "      <td>0.490000</td>\n",
       "      <td>4.000000</td>\n",
       "    </tr>\n",
       "    <tr>\n",
       "      <th>50%</th>\n",
       "      <td>0.555000</td>\n",
       "      <td>4.000000</td>\n",
       "    </tr>\n",
       "    <tr>\n",
       "      <th>75%</th>\n",
       "      <td>0.592500</td>\n",
       "      <td>4.000000</td>\n",
       "    </tr>\n",
       "    <tr>\n",
       "      <th>max</th>\n",
       "      <td>0.860000</td>\n",
       "      <td>4.000000</td>\n",
       "    </tr>\n",
       "  </tbody>\n",
       "</table>\n",
       "</div>"
      ],
      "text/plain": [
       "       sulphates    quality\n",
       "count  60.000000  60.000000\n",
       "mean    0.551833   3.833333\n",
       "std     0.094214   0.375823\n",
       "min     0.330000   3.000000\n",
       "25%     0.490000   4.000000\n",
       "50%     0.555000   4.000000\n",
       "75%     0.592500   4.000000\n",
       "max     0.860000   4.000000"
      ]
     },
     "execution_count": 165,
     "metadata": {},
     "output_type": "execute_result"
    }
   ],
   "source": [
    "poorer_quality_sul=data_df_no_outlier[data_df_no_outlier[\"quality\"].isin([3,4])]\n",
    "poorer_quality_sul[[\"sulphates\",\"quality\"]].describe()"
   ]
  },
  {
   "cell_type": "markdown",
   "metadata": {},
   "source": [
    "<h3 style=\"padding:5px;color:white;background-color:#C4E0E5;text-align: center;margin-left:auto;margin-right:auto;border-radius:10px;\">III: Plotting of graphs--Sulphates VS Quality</h3>"
   ]
  },
  {
   "cell_type": "code",
   "execution_count": 166,
   "metadata": {},
   "outputs": [
    {
     "data": {
      "text/plain": [
       "Text(0.5, 0.98, 'Correlation of Sulphates and Quality')"
      ]
     },
     "execution_count": 166,
     "metadata": {},
     "output_type": "execute_result"
    },
    {
     "data": {
      "image/png": "[encoded data removed]",
      "text/plain": [
       "<Figure size 1152x720 with 3 Axes>"
      ]
     },
     "metadata": {
      "needs_background": "light"
     },
     "output_type": "display_data"
    },
    {
     "data": {
      "image/png": "[encoded data removed]",
      "text/plain": [
       "<Figure size 432x432 with 3 Axes>"
      ]
     },
     "metadata": {
      "needs_background": "light"
     },
     "output_type": "display_data"
    }
   ],
   "source": [
    "figure = plt.figure(figsize=(16,10))\n",
    "\n",
    "# Distribution of Sulphates\n",
    "ax1 = figure.add_subplot(2, 2, 1)\n",
    "sns.distplot(data_df_no_va_outlier['sulphates'],\n",
    "             kde=False,\n",
    "             norm_hist=False,\n",
    "             bins=50,\n",
    "             color='red',\n",
    "             ax=ax1).set_title('Distribution of Sulphates')\n",
    "ax1.set_ylabel(\"Count\")\n",
    "\n",
    "# Distribution of Quality\n",
    "ax2 = figure.add_subplot(2, 2, 2)\n",
    "sns.distplot(data_df_no_va_outlier['quality'],\n",
    "             bins=50,\n",
    "             ax=ax2).set_title('Distribution of Quality') \n",
    "ax2.set_ylabel(\"Count\")\n",
    "\n",
    "# Boxplot\n",
    "ax3 = figure.add_subplot(2, 2, 3)\n",
    "sns.boxplot(data = data_df_no_va_outlier, x = 'quality', y = 'sulphates',ax=ax3).set_title(\"Boxplot of Sulphates and Quality\")\n",
    "\n",
    "plt.suptitle(\"Sulphates vs Quality\", fontsize=15)\n",
    "\n",
    "# Correlation of Sulphates and Quality\n",
    "sns.jointplot(x = \"sulphates\", y = \"quality\", \n",
    "              kind = \"reg\", data = data_df_no_va_outlier, \n",
    "              dropna = True,color='sandybrown')\n",
    "plt.suptitle(\"Correlation of Sulphates and Quality\") \n"
   ]
  },
  {
   "cell_type": "markdown",
   "metadata": {},
   "source": [
    "<h3 style=\"padding:5px;color:white;background-color:#C4E0E5;text-align: center;margin-left:auto;margin-right:auto;border-radius:10px;\">IV: Insights</h3><br>\n",
    "a) <u><b>Distribution Chart of Sulphates:</b></u><br>\n",
    "The distribution chart of sulphate is left-skewed which means that the quantity of sulphate is quite less in this dataset.\n",
    "The quantity of Sulphates ranges between 0.33 to 0.99 g/dm^3 where the distribution mainly clusters around 0.55 to 0.74 g/dm^3. \n",
    "\n",
    "b) <u><b>Distribution Chart of Quality:</b></u><br>\n",
    "We can see that the chart is middle-skewed where most of the wine quality ranges from 5 to 6 which implies that most of the red wine possess middle quality.\n",
    "\n",
    "c) <u><b>Boxplot for Sulphates:</b></u><br>\n",
    "For a better wine quality of 7 to 8, the quantity of sulphate ranges from 0.65 to 0.81 g/dm^3. \n",
    "Whereas for a lower wine quality of 3 to 4, the quantity of sulphate will range from 0.49 to 0.59g.dm^3. This might implies that as the quality of the wine increases, the quantity of sulphate required also increases. However, there might be a possibility that the unique figure was depended on the small number of high and low quality data, hence resulting in an inaccurate measurement. \n",
    "In fact, the low quality wine of 3 and 4 shows contrasting average where the distribution of datasets within the quality leans towards one side of the quantiles. \n",
    "\n",
    "d) <u><b>Joint Plot for Sulphates and Quality:</b></u><br>\n",
    "We have combined the two distribution charts together to see their relationship. We learned that there is an positive relationship between Sulphate and quality as the orange line shows a positive linear graph. This evidences the results from the boxplot where the increase in sulphate results in an increase in quality as well.\n",
    "The graph is quite steeped up which shows that the relationship between sulphate and wine is quite strong.\n",
    "\n",
    "<b><u>Recommendations</u></b><br>\n",
    "Hence, we suggest our client, Jewel wine to increase the composition of sulphates to produce a good quality wine. A good amount of sulphate composition would be around 0.65 to 0.81 g/dm^3 to produce a good qaulity wine. This is because sulphate is a wine additive which can contribute to sulfur dioxide gas (S02) levels, wich acts as an antimicrobial and antioxidant to kill bacteria in wine. Hence, having a higher composition of sulphate can produce a good quality wine"
   ]
  },
  {
   "cell_type": "markdown",
   "metadata": {},
   "source": [
    "<hr>"
   ]
  },
  {
   "cell_type": "markdown",
   "metadata": {},
   "source": [
    "<h3 style=\"background-color:#F4E2D8;text-align:center;padding:5px;border-radius:10px;margin-left:auto;margin-right:auto;width:75%\">3D. Alcohol Vs Quality</h3>"
   ]
  },
  {
   "cell_type": "markdown",
   "metadata": {},
   "source": [
    "<h3 style=\"padding:5px;color:white;background-color:#C4E0E5;text-align: center;margin-left:auto;margin-right:auto;border-radius:10px;\">I: Removing Outliers for Alcohol</h3>"
   ]
  },
  {
   "cell_type": "code",
   "execution_count": 167,
   "metadata": {},
   "outputs": [
    {
     "name": "stdout",
     "output_type": "stream",
     "text": [
      "9.5\n",
      "11.1\n",
      "7.1000000000000005\n",
      "13.5\n"
     ]
    }
   ],
   "source": [
    "#REMOVING OUTLIERS OF Alcohol\n",
    "quartile_1=data_df[\"alcohol\"].quantile(q=0.25) # 25% of hourly rate data are below $29.09..isit normal\n",
    "quartile_3=data_df[\"alcohol\"].quantile(q=0.75)\n",
    "print(quartile_1)\n",
    "print(quartile_3)\n",
    "\n",
    "IQR=quartile_3-quartile_1\n",
    "\n",
    "lower_bound=float(quartile_1-1.5*IQR)\n",
    "upper_bound=float(quartile_3+1.5*IQR)\n",
    "print(lower_bound) #max value--> any thing outside max or min value--> outliers\n",
    "print(upper_bound)#min value\n",
    "\n",
    "cond1=data_df[\"alcohol\"]>=lower_bound\n",
    "cond2=data_df[\"alcohol\"]<=upper_bound\n",
    "data_df_no_outlier=data_df[cond1 & cond2]"
   ]
  },
  {
   "cell_type": "markdown",
   "metadata": {},
   "source": [
    "<h3 style=\"padding:5px;color:white;background-color:#C4E0E5;text-align: center;margin-left:auto;margin-right:auto;border-radius:10px;\">II: Range of Alcohol that gives better quality wine<br>(supporting evidence for boxplot)</h3>"
   ]
  },
  {
   "cell_type": "code",
   "execution_count": 168,
   "metadata": {},
   "outputs": [
    {
     "data": {
      "text/html": [
       "<div>\n",
       "<style scoped>\n",
       "    .dataframe tbody tr th:only-of-type {\n",
       "        vertical-align: middle;\n",
       "    }\n",
       "\n",
       "    .dataframe tbody tr th {\n",
       "        vertical-align: top;\n",
       "    }\n",
       "\n",
       "    .dataframe thead th {\n",
       "        text-align: right;\n",
       "    }\n",
       "</style>\n",
       "<table border=\"1\" class=\"dataframe\">\n",
       "  <thead>\n",
       "    <tr style=\"text-align: right;\">\n",
       "      <th></th>\n",
       "      <th>alcohol</th>\n",
       "      <th>quality</th>\n",
       "    </tr>\n",
       "  </thead>\n",
       "  <tbody>\n",
       "    <tr>\n",
       "      <th>count</th>\n",
       "      <td>210.000000</td>\n",
       "      <td>210.000000</td>\n",
       "    </tr>\n",
       "    <tr>\n",
       "      <th>mean</th>\n",
       "      <td>11.443095</td>\n",
       "      <td>7.076190</td>\n",
       "    </tr>\n",
       "    <tr>\n",
       "      <th>std</th>\n",
       "      <td>0.923750</td>\n",
       "      <td>0.265937</td>\n",
       "    </tr>\n",
       "    <tr>\n",
       "      <th>min</th>\n",
       "      <td>9.200000</td>\n",
       "      <td>7.000000</td>\n",
       "    </tr>\n",
       "    <tr>\n",
       "      <th>25%</th>\n",
       "      <td>10.800000</td>\n",
       "      <td>7.000000</td>\n",
       "    </tr>\n",
       "    <tr>\n",
       "      <th>50%</th>\n",
       "      <td>11.500000</td>\n",
       "      <td>7.000000</td>\n",
       "    </tr>\n",
       "    <tr>\n",
       "      <th>75%</th>\n",
       "      <td>12.100000</td>\n",
       "      <td>7.000000</td>\n",
       "    </tr>\n",
       "    <tr>\n",
       "      <th>max</th>\n",
       "      <td>13.400000</td>\n",
       "      <td>8.000000</td>\n",
       "    </tr>\n",
       "  </tbody>\n",
       "</table>\n",
       "</div>"
      ],
      "text/plain": [
       "          alcohol     quality\n",
       "count  210.000000  210.000000\n",
       "mean    11.443095    7.076190\n",
       "std      0.923750    0.265937\n",
       "min      9.200000    7.000000\n",
       "25%     10.800000    7.000000\n",
       "50%     11.500000    7.000000\n",
       "75%     12.100000    7.000000\n",
       "max     13.400000    8.000000"
      ]
     },
     "execution_count": 168,
     "metadata": {},
     "output_type": "execute_result"
    }
   ],
   "source": [
    "better_quality_al=data_df_no_outlier[data_df_no_outlier[\"quality\"].isin([7,8])]\n",
    "better_quality_al[[\"alcohol\",\"quality\"]].describe()"
   ]
  },
  {
   "cell_type": "markdown",
   "metadata": {},
   "source": [
    "<h3 style=\"padding:5px;color:white;background-color:#C4E0E5;text-align: center;margin-left:auto;margin-right:auto;border-radius:10px;\">II: Range of Alcohol that gives poorer quality wine<br>(supporting evidence for boxplot)</h3>"
   ]
  },
  {
   "cell_type": "code",
   "execution_count": 169,
   "metadata": {},
   "outputs": [
    {
     "data": {
      "text/html": [
       "<div>\n",
       "<style scoped>\n",
       "    .dataframe tbody tr th:only-of-type {\n",
       "        vertical-align: middle;\n",
       "    }\n",
       "\n",
       "    .dataframe tbody tr th {\n",
       "        vertical-align: top;\n",
       "    }\n",
       "\n",
       "    .dataframe thead th {\n",
       "        text-align: right;\n",
       "    }\n",
       "</style>\n",
       "<table border=\"1\" class=\"dataframe\">\n",
       "  <thead>\n",
       "    <tr style=\"text-align: right;\">\n",
       "      <th></th>\n",
       "      <th>alcohol</th>\n",
       "      <th>quality</th>\n",
       "    </tr>\n",
       "  </thead>\n",
       "  <tbody>\n",
       "    <tr>\n",
       "      <th>count</th>\n",
       "      <td>63.000000</td>\n",
       "      <td>63.000000</td>\n",
       "    </tr>\n",
       "    <tr>\n",
       "      <th>mean</th>\n",
       "      <td>10.215873</td>\n",
       "      <td>3.841270</td>\n",
       "    </tr>\n",
       "    <tr>\n",
       "      <th>std</th>\n",
       "      <td>0.918178</td>\n",
       "      <td>0.368359</td>\n",
       "    </tr>\n",
       "    <tr>\n",
       "      <th>min</th>\n",
       "      <td>8.400000</td>\n",
       "      <td>3.000000</td>\n",
       "    </tr>\n",
       "    <tr>\n",
       "      <th>25%</th>\n",
       "      <td>9.600000</td>\n",
       "      <td>4.000000</td>\n",
       "    </tr>\n",
       "    <tr>\n",
       "      <th>50%</th>\n",
       "      <td>10.000000</td>\n",
       "      <td>4.000000</td>\n",
       "    </tr>\n",
       "    <tr>\n",
       "      <th>75%</th>\n",
       "      <td>11.000000</td>\n",
       "      <td>4.000000</td>\n",
       "    </tr>\n",
       "    <tr>\n",
       "      <th>max</th>\n",
       "      <td>13.100000</td>\n",
       "      <td>4.000000</td>\n",
       "    </tr>\n",
       "  </tbody>\n",
       "</table>\n",
       "</div>"
      ],
      "text/plain": [
       "         alcohol    quality\n",
       "count  63.000000  63.000000\n",
       "mean   10.215873   3.841270\n",
       "std     0.918178   0.368359\n",
       "min     8.400000   3.000000\n",
       "25%     9.600000   4.000000\n",
       "50%    10.000000   4.000000\n",
       "75%    11.000000   4.000000\n",
       "max    13.100000   4.000000"
      ]
     },
     "execution_count": 169,
     "metadata": {},
     "output_type": "execute_result"
    }
   ],
   "source": [
    "poorer_quality_al=data_df_no_outlier[data_df_no_outlier[\"quality\"].isin([3,4])]\n",
    "poorer_quality_al[[\"alcohol\",\"quality\"]].describe()"
   ]
  },
  {
   "cell_type": "markdown",
   "metadata": {},
   "source": [
    "<h3 style=\"padding:5px;color:white;background-color:#C4E0E5;text-align: center;margin-left:auto;margin-right:auto;border-radius:10px;\">III: Plotting of graphs--Alcohol VS Quality</h3>"
   ]
  },
  {
   "cell_type": "code",
   "execution_count": 170,
   "metadata": {},
   "outputs": [
    {
     "data": {
      "text/plain": [
       "Text(0.5, 0.98, 'Correlation of Alcohol and Quality')"
      ]
     },
     "execution_count": 170,
     "metadata": {},
     "output_type": "execute_result"
    },
    {
     "data": {
      "image/png": "[encoded data removed]",
      "text/plain": [
       "<Figure size 1152x720 with 3 Axes>"
      ]
     },
     "metadata": {
      "needs_background": "light"
     },
     "output_type": "display_data"
    },
    {
     "data": {
      "image/png": "[encoded data removed]",
      "text/plain": [
       "<Figure size 432x432 with 3 Axes>"
      ]
     },
     "metadata": {
      "needs_background": "light"
     },
     "output_type": "display_data"
    }
   ],
   "source": [
    "figure = plt.figure(figsize=(16,10))\n",
    "\n",
    "# Distribution of Alcohol\n",
    "ax1 = figure.add_subplot(2, 2, 1)\n",
    "sns.distplot(data_df_no_va_outlier['alcohol'],\n",
    "             kde=False,\n",
    "             norm_hist=False,\n",
    "             bins=50,\n",
    "             color='red',\n",
    "             ax=ax1).set_title('Distribution of Alcohol')\n",
    "ax1.set_ylabel(\"Count\")\n",
    "\n",
    "# Distribution of Quality\n",
    "ax2 = figure.add_subplot(2, 2, 2)\n",
    "sns.distplot(data_df_no_va_outlier['quality'],\n",
    "             bins=50,\n",
    "             ax=ax2).set_title('Distribution of Quality') \n",
    "ax2.set_ylabel(\"Count\")\n",
    "\n",
    "# Boxplot\n",
    "ax3 = figure.add_subplot(2, 2, 3)\n",
    "sns.boxplot(data = data_df_no_va_outlier, x = 'quality', y = 'alcohol',ax=ax3).set_title(\"Boxplot of Alcohol and Quality\")\n",
    "\n",
    "plt.suptitle(\"Alcohol vs Quality\", fontsize=15)\n",
    "\n",
    "# Correlation of Alcohol and Quality\n",
    "sns.jointplot(x = \"alcohol\", y = \"quality\", \n",
    "              kind = \"reg\", data = data_df_no_va_outlier, \n",
    "              dropna = True,color='sandybrown')\n",
    "plt.suptitle(\"Correlation of Alcohol and Quality\") \n"
   ]
  },
  {
   "cell_type": "markdown",
   "metadata": {},
   "source": [
    "<h3 style=\"padding:5px;color:white;background-color:#C4E0E5;text-align: center;margin-left:auto;margin-right:auto;border-radius:10px;\">IV: Insights</h3><br>\n",
    "a) <u><b>Distribution Chart of Alcohol:</b></u><br>\n",
    "We have removed the outliers for fixed acidity to allow a clearer distribution to be formed. The distribution of alcohol ranges from 8.4 to 13.4 g / dm^3 and most of the wine is found to have acidity of 10.0 to 11.5 vol%. \n",
    "\n",
    "b)<u><b>Distribution Chart of Quality:</b></u><br>\n",
    "We can see that the chart is middle-skewed where most of the wine quality ranges from 5 to 6 which implies that most of the red wine possess middle quality.\n",
    "\n",
    "c) <u><b>Boxplot for Alcohol:</b></u><br>\n",
    "For a better wine quality of 7 to 8, the volume of alcohol ranges from 10.8 to 12.1 g/dm^3. Whereas for poorer wine quality of 3 to 4, the volume of alcohol ranges from 9.6 to 11.0 g/dm^3. By looking at these values, a clear relationship could not be defined since they intersects each other and there is only a small difference in the values.\n",
    "\n",
    "Nevertheless, by looking at the average alcohol content across each quality, it shows a positive relationship between alcohol volume and quality where the quality increases with alcohol. However, both good quality wines (rated 7&8) as well as low quality wine (3 & 4) has a similar average alcohol content when being compared within their categories. This shows that a good quality of wine, be it rating of 7 or 8 has the same alcohol content. Likewise for a bad quality of wine rated 3 and 4.\n",
    "\n",
    "\n",
    "d)<u><b>Joint Plot for Alcohol and Quality:</b></u><br>\n",
    "We have combined the two distribution charts together to see their relationship. We learned that there is a strong positive relationship between alcohol and quality as the orange line shows a very steep positive linear graph. Thus, indicating that there is indeed a positive correlation relationship between the two variables.\n",
    "\n",
    "<b><u>Recommendations</u></b><br>\n",
    "Hence, we suggest our client, Jewel wine to increase the composition of alcohol to produce a good quality wine. A good amount of alcohol composition would be around 10.8 to 12.1 g/dm^3 to produce a good qaulity wine. "
   ]
  },
  {
   "cell_type": "markdown",
   "metadata": {},
   "source": [
    "<h2 style=\"background-color:lightpink;border-radius:5px;text-align:center;padding:10px;color:white;\">4. Wine Quality Prediction Model</h2>"
   ]
  },
  {
   "cell_type": "markdown",
   "metadata": {},
   "source": [
    "From our analysis above, we now have a better understanding on the relationship between each wine's attribute and quality.\n",
    "\n",
    "As our objective is to help Jewel Wine better understand what affects the quality of wine and improve their wine  manufactoring process, in this section we will look at how we can better predict the Red Wine quality given the factors we had analyzed."
   ]
  },
  {
   "cell_type": "markdown",
   "metadata": {},
   "source": [
    "<h3 style=\"background-color:#F4E2D8;text-align:center;width:75%;padding:5px;border-radius:10px;margin-left:auto;margin-right:auto\">Approach: Develop a Decision Tree</h3>"
   ]
  },
  {
   "cell_type": "markdown",
   "metadata": {},
   "source": [
    "<h3 style=\"padding:5px;color:white;background-color:#C4E0E5;text-align: center;margin-left:auto;margin-right:auto;border-radius:10px;\">I: Encoding quality to \"Good\" OR \"Bad\"</h3><br>"
   ]
  },
  {
   "cell_type": "markdown",
   "metadata": {},
   "source": [
    "In this section, we categorised the wine quality into 2 sections, good and bad quality wine for clearer wine prediction later on."
   ]
  },
  {
   "cell_type": "code",
   "execution_count": 171,
   "metadata": {},
   "outputs": [
    {
     "data": {
      "text/html": [
       "<div>\n",
       "<style scoped>\n",
       "    .dataframe tbody tr th:only-of-type {\n",
       "        vertical-align: middle;\n",
       "    }\n",
       "\n",
       "    .dataframe tbody tr th {\n",
       "        vertical-align: top;\n",
       "    }\n",
       "\n",
       "    .dataframe thead th {\n",
       "        text-align: right;\n",
       "    }\n",
       "</style>\n",
       "<table border=\"1\" class=\"dataframe\">\n",
       "  <thead>\n",
       "    <tr style=\"text-align: right;\">\n",
       "      <th></th>\n",
       "      <th>fixed acidity</th>\n",
       "      <th>volatile acidity</th>\n",
       "      <th>citric acid</th>\n",
       "      <th>residual sugar</th>\n",
       "      <th>chlorides</th>\n",
       "      <th>free sulfur dioxide</th>\n",
       "      <th>total sulfur dioxide</th>\n",
       "      <th>density</th>\n",
       "      <th>pH</th>\n",
       "      <th>sulphates</th>\n",
       "      <th>alcohol</th>\n",
       "      <th>quality</th>\n",
       "      <th>quality_cat</th>\n",
       "    </tr>\n",
       "  </thead>\n",
       "  <tbody>\n",
       "    <tr>\n",
       "      <th>0</th>\n",
       "      <td>7.4</td>\n",
       "      <td>0.700</td>\n",
       "      <td>0.00</td>\n",
       "      <td>1.9</td>\n",
       "      <td>0.076</td>\n",
       "      <td>11.0</td>\n",
       "      <td>34.0</td>\n",
       "      <td>0.99780</td>\n",
       "      <td>3.51</td>\n",
       "      <td>0.56</td>\n",
       "      <td>9.4</td>\n",
       "      <td>5</td>\n",
       "      <td>Bad</td>\n",
       "    </tr>\n",
       "    <tr>\n",
       "      <th>1</th>\n",
       "      <td>7.8</td>\n",
       "      <td>0.880</td>\n",
       "      <td>0.00</td>\n",
       "      <td>2.6</td>\n",
       "      <td>0.098</td>\n",
       "      <td>25.0</td>\n",
       "      <td>67.0</td>\n",
       "      <td>0.99680</td>\n",
       "      <td>3.20</td>\n",
       "      <td>0.68</td>\n",
       "      <td>9.8</td>\n",
       "      <td>5</td>\n",
       "      <td>Bad</td>\n",
       "    </tr>\n",
       "    <tr>\n",
       "      <th>2</th>\n",
       "      <td>7.8</td>\n",
       "      <td>0.760</td>\n",
       "      <td>0.04</td>\n",
       "      <td>2.3</td>\n",
       "      <td>0.092</td>\n",
       "      <td>15.0</td>\n",
       "      <td>54.0</td>\n",
       "      <td>0.99700</td>\n",
       "      <td>3.26</td>\n",
       "      <td>0.65</td>\n",
       "      <td>9.8</td>\n",
       "      <td>5</td>\n",
       "      <td>Bad</td>\n",
       "    </tr>\n",
       "    <tr>\n",
       "      <th>3</th>\n",
       "      <td>11.2</td>\n",
       "      <td>0.280</td>\n",
       "      <td>0.56</td>\n",
       "      <td>1.9</td>\n",
       "      <td>0.075</td>\n",
       "      <td>17.0</td>\n",
       "      <td>60.0</td>\n",
       "      <td>0.99800</td>\n",
       "      <td>3.16</td>\n",
       "      <td>0.58</td>\n",
       "      <td>9.8</td>\n",
       "      <td>6</td>\n",
       "      <td>Bad</td>\n",
       "    </tr>\n",
       "    <tr>\n",
       "      <th>4</th>\n",
       "      <td>7.4</td>\n",
       "      <td>0.700</td>\n",
       "      <td>0.00</td>\n",
       "      <td>1.9</td>\n",
       "      <td>0.076</td>\n",
       "      <td>11.0</td>\n",
       "      <td>34.0</td>\n",
       "      <td>0.99780</td>\n",
       "      <td>3.51</td>\n",
       "      <td>0.56</td>\n",
       "      <td>9.4</td>\n",
       "      <td>5</td>\n",
       "      <td>Bad</td>\n",
       "    </tr>\n",
       "    <tr>\n",
       "      <th>...</th>\n",
       "      <td>...</td>\n",
       "      <td>...</td>\n",
       "      <td>...</td>\n",
       "      <td>...</td>\n",
       "      <td>...</td>\n",
       "      <td>...</td>\n",
       "      <td>...</td>\n",
       "      <td>...</td>\n",
       "      <td>...</td>\n",
       "      <td>...</td>\n",
       "      <td>...</td>\n",
       "      <td>...</td>\n",
       "      <td>...</td>\n",
       "    </tr>\n",
       "    <tr>\n",
       "      <th>1594</th>\n",
       "      <td>6.2</td>\n",
       "      <td>0.600</td>\n",
       "      <td>0.08</td>\n",
       "      <td>2.0</td>\n",
       "      <td>0.090</td>\n",
       "      <td>32.0</td>\n",
       "      <td>44.0</td>\n",
       "      <td>0.99490</td>\n",
       "      <td>3.45</td>\n",
       "      <td>0.58</td>\n",
       "      <td>10.5</td>\n",
       "      <td>5</td>\n",
       "      <td>Bad</td>\n",
       "    </tr>\n",
       "    <tr>\n",
       "      <th>1595</th>\n",
       "      <td>5.9</td>\n",
       "      <td>0.550</td>\n",
       "      <td>0.10</td>\n",
       "      <td>2.2</td>\n",
       "      <td>0.062</td>\n",
       "      <td>39.0</td>\n",
       "      <td>51.0</td>\n",
       "      <td>0.99512</td>\n",
       "      <td>3.52</td>\n",
       "      <td>0.76</td>\n",
       "      <td>11.2</td>\n",
       "      <td>6</td>\n",
       "      <td>Bad</td>\n",
       "    </tr>\n",
       "    <tr>\n",
       "      <th>1596</th>\n",
       "      <td>6.3</td>\n",
       "      <td>0.510</td>\n",
       "      <td>0.13</td>\n",
       "      <td>2.3</td>\n",
       "      <td>0.076</td>\n",
       "      <td>29.0</td>\n",
       "      <td>40.0</td>\n",
       "      <td>0.99574</td>\n",
       "      <td>3.42</td>\n",
       "      <td>0.75</td>\n",
       "      <td>11.0</td>\n",
       "      <td>6</td>\n",
       "      <td>Bad</td>\n",
       "    </tr>\n",
       "    <tr>\n",
       "      <th>1597</th>\n",
       "      <td>5.9</td>\n",
       "      <td>0.645</td>\n",
       "      <td>0.12</td>\n",
       "      <td>2.0</td>\n",
       "      <td>0.075</td>\n",
       "      <td>32.0</td>\n",
       "      <td>44.0</td>\n",
       "      <td>0.99547</td>\n",
       "      <td>3.57</td>\n",
       "      <td>0.71</td>\n",
       "      <td>10.2</td>\n",
       "      <td>5</td>\n",
       "      <td>Bad</td>\n",
       "    </tr>\n",
       "    <tr>\n",
       "      <th>1598</th>\n",
       "      <td>6.0</td>\n",
       "      <td>0.310</td>\n",
       "      <td>0.47</td>\n",
       "      <td>3.6</td>\n",
       "      <td>0.067</td>\n",
       "      <td>18.0</td>\n",
       "      <td>42.0</td>\n",
       "      <td>0.99549</td>\n",
       "      <td>3.39</td>\n",
       "      <td>0.66</td>\n",
       "      <td>11.0</td>\n",
       "      <td>6</td>\n",
       "      <td>Bad</td>\n",
       "    </tr>\n",
       "  </tbody>\n",
       "</table>\n",
       "<p>1599 rows × 13 columns</p>\n",
       "</div>"
      ],
      "text/plain": [
       "      fixed acidity  volatile acidity  citric acid  residual sugar  chlorides  \\\n",
       "0               7.4             0.700         0.00             1.9      0.076   \n",
       "1               7.8             0.880         0.00             2.6      0.098   \n",
       "2               7.8             0.760         0.04             2.3      0.092   \n",
       "3              11.2             0.280         0.56             1.9      0.075   \n",
       "4               7.4             0.700         0.00             1.9      0.076   \n",
       "...             ...               ...          ...             ...        ...   \n",
       "1594            6.2             0.600         0.08             2.0      0.090   \n",
       "1595            5.9             0.550         0.10             2.2      0.062   \n",
       "1596            6.3             0.510         0.13             2.3      0.076   \n",
       "1597            5.9             0.645         0.12             2.0      0.075   \n",
       "1598            6.0             0.310         0.47             3.6      0.067   \n",
       "\n",
       "      free sulfur dioxide  total sulfur dioxide  density    pH  sulphates  \\\n",
       "0                    11.0                  34.0  0.99780  3.51       0.56   \n",
       "1                    25.0                  67.0  0.99680  3.20       0.68   \n",
       "2                    15.0                  54.0  0.99700  3.26       0.65   \n",
       "3                    17.0                  60.0  0.99800  3.16       0.58   \n",
       "4                    11.0                  34.0  0.99780  3.51       0.56   \n",
       "...                   ...                   ...      ...   ...        ...   \n",
       "1594                 32.0                  44.0  0.99490  3.45       0.58   \n",
       "1595                 39.0                  51.0  0.99512  3.52       0.76   \n",
       "1596                 29.0                  40.0  0.99574  3.42       0.75   \n",
       "1597                 32.0                  44.0  0.99547  3.57       0.71   \n",
       "1598                 18.0                  42.0  0.99549  3.39       0.66   \n",
       "\n",
       "      alcohol  quality quality_cat  \n",
       "0         9.4        5         Bad  \n",
       "1         9.8        5         Bad  \n",
       "2         9.8        5         Bad  \n",
       "3         9.8        6         Bad  \n",
       "4         9.4        5         Bad  \n",
       "...       ...      ...         ...  \n",
       "1594     10.5        5         Bad  \n",
       "1595     11.2        6         Bad  \n",
       "1596     11.0        6         Bad  \n",
       "1597     10.2        5         Bad  \n",
       "1598     11.0        6         Bad  \n",
       "\n",
       "[1599 rows x 13 columns]"
      ]
     },
     "execution_count": 171,
     "metadata": {},
     "output_type": "execute_result"
    }
   ],
   "source": [
    "new_df=data_df[[\"fixed acidity\",\"volatile acidity\",\"citric acid\",\"residual sugar\",\"chlorides\",\"free sulfur dioxide\",\"total sulfur dioxide\",\"density\",\"pH\",\"sulphates\",\"alcohol\",\"quality\"]]\n",
    "\n",
    "def quality_seperator(quality):\n",
    "    if quality>=7:\n",
    "        return \"Good\"\n",
    "    else:\n",
    "        return \"Bad\"\n",
    "    \n",
    "\n",
    "new_df[\"quality_cat\"]=new_df[\"quality\"].apply(quality_seperator)\n",
    "new_df"
   ]
  },
  {
   "cell_type": "markdown",
   "metadata": {},
   "source": [
    "<h3 style=\"padding:5px;color:white;background-color:#C4E0E5;text-align: center;margin-left:auto;margin-right:auto;border-radius:10px;\">II: SciKit Learn to train and test our datasets</h3><br>"
   ]
  },
  {
   "cell_type": "code",
   "execution_count": 172,
   "metadata": {},
   "outputs": [],
   "source": [
    "from sklearn.model_selection import train_test_split\n",
    "from sklearn.linear_model import LinearRegression\n",
    "from sklearn import datasets, linear_model"
   ]
  },
  {
   "cell_type": "code",
   "execution_count": 173,
   "metadata": {},
   "outputs": [
    {
     "name": "stdout",
     "output_type": "stream",
     "text": [
      "{'sulphates', 'chlorides', 'pH', 'citric acid', 'volatile acidity', 'fixed acidity', 'free sulfur dioxide', 'total sulfur dioxide', 'density', 'alcohol', 'residual sugar'}\n",
      "{'Bad', 'Good'}\n"
     ]
    },
    {
     "data": {
      "text/html": [
       "<div>\n",
       "<style scoped>\n",
       "    .dataframe tbody tr th:only-of-type {\n",
       "        vertical-align: middle;\n",
       "    }\n",
       "\n",
       "    .dataframe tbody tr th {\n",
       "        vertical-align: top;\n",
       "    }\n",
       "\n",
       "    .dataframe thead th {\n",
       "        text-align: right;\n",
       "    }\n",
       "</style>\n",
       "<table border=\"1\" class=\"dataframe\">\n",
       "  <thead>\n",
       "    <tr style=\"text-align: right;\">\n",
       "      <th></th>\n",
       "      <th>fixed acidity</th>\n",
       "      <th>volatile acidity</th>\n",
       "      <th>citric acid</th>\n",
       "      <th>residual sugar</th>\n",
       "      <th>chlorides</th>\n",
       "      <th>free sulfur dioxide</th>\n",
       "      <th>total sulfur dioxide</th>\n",
       "      <th>density</th>\n",
       "      <th>pH</th>\n",
       "      <th>sulphates</th>\n",
       "      <th>alcohol</th>\n",
       "    </tr>\n",
       "  </thead>\n",
       "  <tbody>\n",
       "    <tr>\n",
       "      <th>1407</th>\n",
       "      <td>6.0</td>\n",
       "      <td>0.51</td>\n",
       "      <td>0.00</td>\n",
       "      <td>2.10</td>\n",
       "      <td>0.064</td>\n",
       "      <td>40.0</td>\n",
       "      <td>54.0</td>\n",
       "      <td>0.99500</td>\n",
       "      <td>3.54</td>\n",
       "      <td>0.93</td>\n",
       "      <td>10.7</td>\n",
       "    </tr>\n",
       "    <tr>\n",
       "      <th>1202</th>\n",
       "      <td>8.6</td>\n",
       "      <td>0.42</td>\n",
       "      <td>0.39</td>\n",
       "      <td>1.80</td>\n",
       "      <td>0.068</td>\n",
       "      <td>6.0</td>\n",
       "      <td>12.0</td>\n",
       "      <td>0.99516</td>\n",
       "      <td>3.35</td>\n",
       "      <td>0.69</td>\n",
       "      <td>11.7</td>\n",
       "    </tr>\n",
       "    <tr>\n",
       "      <th>245</th>\n",
       "      <td>7.3</td>\n",
       "      <td>0.66</td>\n",
       "      <td>0.00</td>\n",
       "      <td>2.00</td>\n",
       "      <td>0.084</td>\n",
       "      <td>6.0</td>\n",
       "      <td>23.0</td>\n",
       "      <td>0.99830</td>\n",
       "      <td>3.61</td>\n",
       "      <td>0.96</td>\n",
       "      <td>9.9</td>\n",
       "    </tr>\n",
       "    <tr>\n",
       "      <th>1002</th>\n",
       "      <td>9.1</td>\n",
       "      <td>0.29</td>\n",
       "      <td>0.33</td>\n",
       "      <td>2.05</td>\n",
       "      <td>0.063</td>\n",
       "      <td>13.0</td>\n",
       "      <td>27.0</td>\n",
       "      <td>0.99516</td>\n",
       "      <td>3.26</td>\n",
       "      <td>0.84</td>\n",
       "      <td>11.7</td>\n",
       "    </tr>\n",
       "    <tr>\n",
       "      <th>939</th>\n",
       "      <td>6.2</td>\n",
       "      <td>0.46</td>\n",
       "      <td>0.17</td>\n",
       "      <td>1.60</td>\n",
       "      <td>0.073</td>\n",
       "      <td>7.0</td>\n",
       "      <td>11.0</td>\n",
       "      <td>0.99425</td>\n",
       "      <td>3.61</td>\n",
       "      <td>0.54</td>\n",
       "      <td>11.4</td>\n",
       "    </tr>\n",
       "  </tbody>\n",
       "</table>\n",
       "</div>"
      ],
      "text/plain": [
       "      fixed acidity  volatile acidity  citric acid  residual sugar  chlorides  \\\n",
       "1407            6.0              0.51         0.00            2.10      0.064   \n",
       "1202            8.6              0.42         0.39            1.80      0.068   \n",
       "245             7.3              0.66         0.00            2.00      0.084   \n",
       "1002            9.1              0.29         0.33            2.05      0.063   \n",
       "939             6.2              0.46         0.17            1.60      0.073   \n",
       "\n",
       "      free sulfur dioxide  total sulfur dioxide  density    pH  sulphates  \\\n",
       "1407                 40.0                  54.0  0.99500  3.54       0.93   \n",
       "1202                  6.0                  12.0  0.99516  3.35       0.69   \n",
       "245                   6.0                  23.0  0.99830  3.61       0.96   \n",
       "1002                 13.0                  27.0  0.99516  3.26       0.84   \n",
       "939                   7.0                  11.0  0.99425  3.61       0.54   \n",
       "\n",
       "      alcohol  \n",
       "1407     10.7  \n",
       "1202     11.7  \n",
       "245       9.9  \n",
       "1002     11.7  \n",
       "939      11.4  "
      ]
     },
     "metadata": {},
     "output_type": "display_data"
    },
    {
     "data": {
      "text/plain": [
       "1407     Bad\n",
       "1202    Good\n",
       "245      Bad\n",
       "1002    Good\n",
       "939      Bad\n",
       "Name: quality_cat, dtype: object"
      ]
     },
     "metadata": {},
     "output_type": "display_data"
    }
   ],
   "source": [
    "features = [\"fixed acidity\",\"volatile acidity\",\"citric acid\",\"residual sugar\",\"chlorides\",\"free sulfur dioxide\",\"total sulfur dioxide\",\"density\",\"pH\",\"sulphates\",\"alcohol\"]\n",
    "\n",
    "df_x = new_df[features]\n",
    "df_y = new_df['quality_cat']\n",
    "\n",
    "df_x.head()\n",
    "df_y.head()\n",
    "\n",
    "print( set(df_x) )\n",
    "print( set(df_y) )\n",
    "\n",
    "from sklearn.model_selection import train_test_split\n",
    "\n",
    "x_train, x_test, y_train, y_test = train_test_split(df_x, \n",
    "                                                    df_y, \n",
    "                                                    test_size=0.20, # 20% Testing Data\n",
    "                                                    random_state=10)\n",
    "\n",
    "display(x_train.head())\n",
    "display(y_train.head())\n"
   ]
  },
  {
   "cell_type": "markdown",
   "metadata": {},
   "source": [
    "<h3 style=\"padding:5px;color:white;background-color:#C4E0E5;text-align: center;margin-left:auto;margin-right:auto;border-radius:10px;\">III: Growing Decision Tree</h3><br>"
   ]
  },
  {
   "cell_type": "code",
   "execution_count": 174,
   "metadata": {},
   "outputs": [],
   "source": [
    "#FULL TREE"
   ]
  },
  {
   "cell_type": "code",
   "execution_count": 175,
   "metadata": {},
   "outputs": [
    {
     "name": "stdout",
     "output_type": "stream",
     "text": [
      "Depth of Tree 13\n"
     ]
    }
   ],
   "source": [
    "from sklearn.tree import DecisionTreeClassifier\n",
    "factor_dtree=DecisionTreeClassifier(criterion=\"entropy\") #entropy--> KPI-->measures how chaotic the data is\n",
    "factor_dtree.fit(x_train,y_train)\n",
    "\n",
    "print(\"Depth of Tree\",factor_dtree.tree_.max_depth)  \n"
   ]
  },
  {
   "cell_type": "code",
   "execution_count": 176,
   "metadata": {},
   "outputs": [],
   "source": [
    "#PRUNED TREE"
   ]
  },
  {
   "cell_type": "code",
   "execution_count": 191,
   "metadata": {},
   "outputs": [
    {
     "name": "stdout",
     "output_type": "stream",
     "text": [
      "Depth of Tree 4\n"
     ]
    },
    {
     "data": {
      "text/plain": [
       "[Text(381.13392857142856, 489.24, 'X[10] <= 10.45\\nentropy = 0.559\\nsamples = 1279\\nvalue = [1112, 167]'),\n",
       " Text(164.41071428571428, 380.52000000000004, 'X[9] <= 0.615\\nentropy = 0.205\\nsamples = 747\\nvalue = [723, 24]'),\n",
       " Text(89.67857142857143, 271.8, 'X[5] <= 10.5\\nentropy = 0.043\\nsamples = 431\\nvalue = [429, 2]'),\n",
       " Text(59.785714285714285, 163.08000000000004, 'X[5] <= 8.5\\nentropy = 0.106\\nsamples = 143\\nvalue = [141, 2]'),\n",
       " Text(29.892857142857142, 54.360000000000014, 'entropy = 0.0\\nsamples = 107\\nvalue = [107, 0]'),\n",
       " Text(89.67857142857143, 54.360000000000014, 'entropy = 0.31\\nsamples = 36\\nvalue = [34, 2]'),\n",
       " Text(119.57142857142857, 163.08000000000004, 'entropy = 0.0\\nsamples = 288\\nvalue = [288, 0]'),\n",
       " Text(239.14285714285714, 271.8, 'X[10] <= 9.85\\nentropy = 0.365\\nsamples = 316\\nvalue = [294, 22]'),\n",
       " Text(179.35714285714286, 163.08000000000004, 'X[1] <= 0.225\\nentropy = 0.116\\nsamples = 193\\nvalue = [190, 3]'),\n",
       " Text(149.46428571428572, 54.360000000000014, 'entropy = 0.0\\nsamples = 1\\nvalue = [0, 1]'),\n",
       " Text(209.25, 54.360000000000014, 'entropy = 0.084\\nsamples = 192\\nvalue = [190, 2]'),\n",
       " Text(298.92857142857144, 163.08000000000004, 'X[2] <= 0.085\\nentropy = 0.621\\nsamples = 123\\nvalue = [104, 19]'),\n",
       " Text(269.0357142857143, 54.360000000000014, 'entropy = 0.0\\nsamples = 20\\nvalue = [20, 0]'),\n",
       " Text(328.82142857142856, 54.360000000000014, 'entropy = 0.69\\nsamples = 103\\nvalue = [84, 19]'),\n",
       " Text(597.8571428571429, 380.52000000000004, 'X[1] <= 0.425\\nentropy = 0.84\\nsamples = 532\\nvalue = [389, 143]'),\n",
       " Text(478.2857142857143, 271.8, 'X[6] <= 49.5\\nentropy = 0.982\\nsamples = 240\\nvalue = [139, 101]'),\n",
       " Text(418.5, 163.08000000000004, 'X[9] <= 0.615\\nentropy = 1.0\\nsamples = 185\\nvalue = [93, 92]'),\n",
       " Text(388.60714285714283, 54.360000000000014, 'entropy = 0.752\\nsamples = 51\\nvalue = [40, 11]'),\n",
       " Text(448.3928571428571, 54.360000000000014, 'entropy = 0.968\\nsamples = 134\\nvalue = [53, 81]'),\n",
       " Text(538.0714285714286, 163.08000000000004, 'X[4] <= 0.045\\nentropy = 0.643\\nsamples = 55\\nvalue = [46, 9]'),\n",
       " Text(508.17857142857144, 54.360000000000014, 'entropy = 0.0\\nsamples = 3\\nvalue = [0, 3]'),\n",
       " Text(567.9642857142857, 54.360000000000014, 'entropy = 0.516\\nsamples = 52\\nvalue = [46, 6]'),\n",
       " Text(717.4285714285714, 271.8, 'X[9] <= 0.625\\nentropy = 0.594\\nsamples = 292\\nvalue = [250, 42]'),\n",
       " Text(657.6428571428571, 163.08000000000004, 'X[3] <= 5.8\\nentropy = 0.288\\nsamples = 139\\nvalue = [132, 7]'),\n",
       " Text(627.75, 54.360000000000014, 'entropy = 0.226\\nsamples = 137\\nvalue = [132, 5]'),\n",
       " Text(687.5357142857142, 54.360000000000014, 'entropy = 0.0\\nsamples = 2\\nvalue = [0, 2]'),\n",
       " Text(777.2142857142857, 163.08000000000004, 'X[10] <= 11.45\\nentropy = 0.776\\nsamples = 153\\nvalue = [118, 35]'),\n",
       " Text(747.3214285714286, 54.360000000000014, 'entropy = 0.455\\nsamples = 94\\nvalue = [85, 9]'),\n",
       " Text(807.1071428571429, 54.360000000000014, 'entropy = 0.99\\nsamples = 59\\nvalue = [33, 26]')]"
      ]
     },
     "execution_count": 191,
     "metadata": {},
     "output_type": "execute_result"
    },
    {
     "data": {
      "image/png": "[encoded data removed]",
      "text/plain": [
       "<Figure size 1080x720 with 1 Axes>"
      ]
     },
     "metadata": {
      "needs_background": "light"
     },
     "output_type": "display_data"
    }
   ],
   "source": [
    "pruned_dtree=DecisionTreeClassifier(criterion=\"entropy\",max_depth=4) #Change depth of tree\n",
    "\n",
    "pruned_dtree.fit(x_train,y_train)\n",
    "print(\"Depth of Tree\",pruned_dtree.tree_.max_depth) \n",
    "\n",
    "from sklearn import tree\n",
    "from matplotlib.pyplot import figure\n",
    "\n",
    "figure(figsize=(15,10))\n",
    "tree.plot_tree(pruned_dtree, filled=True, impurity=True)"
   ]
  },
  {
   "cell_type": "code",
   "execution_count": 192,
   "metadata": {},
   "outputs": [],
   "source": [
    "#COMPARING FULL TREE & PRUNED TREE  using Confusion Matrix"
   ]
  },
  {
   "cell_type": "code",
   "execution_count": 193,
   "metadata": {},
   "outputs": [
    {
     "name": "stdout",
     "output_type": "stream",
     "text": [
      "Confusion matrix (Full tree)\n",
      "[[249  21]\n",
      " [ 24  26]]\n",
      "Confusion matrix (Pruned Tree)\n",
      "[[253  17]\n",
      " [ 30  20]]\n"
     ]
    },
    {
     "data": {
      "image/png": "[encoded data removed]",
      "text/plain": [
       "<Figure size 432x288 with 2 Axes>"
      ]
     },
     "metadata": {
      "needs_background": "light"
     },
     "output_type": "display_data"
    },
    {
     "data": {
      "image/png": "[encoded data removed]",
      "text/plain": [
       "<Figure size 432x288 with 2 Axes>"
      ]
     },
     "metadata": {
      "needs_background": "light"
     },
     "output_type": "display_data"
    }
   ],
   "source": [
    "from sklearn.metrics import plot_confusion_matrix\n",
    "full_results = factor_dtree.predict(x_test)\n",
    "pruned_results = pruned_dtree.predict(x_test)\n",
    "cm_f = confusion_matrix(y_test, full_results) #(actual,prediction)\n",
    "cm_p = confusion_matrix(y_test, pruned_results)\n",
    "\n",
    "titles_options = [(\"Confusion matrix (Full tree)\", factor_dtree),\n",
    "                  (\"Confusion matrix (Pruned Tree)\", pruned_dtree)]\n",
    "\n",
    "for title, classifier in titles_options:\n",
    "    disp = plot_confusion_matrix(classifier, x_test, y_test,\n",
    "                                 cmap=plt.cm.Blues,\n",
    "                                 normalize=None)\n",
    "    disp.ax_.set_title(title)\n",
    "    print(title)\n",
    "    print(disp.confusion_matrix)\n",
    "\n",
    "plt.show()\n"
   ]
  },
  {
   "cell_type": "code",
   "execution_count": 194,
   "metadata": {},
   "outputs": [],
   "source": [
    "#REPORT: PERFORMANCE OF FULL AND PRUNED TREE "
   ]
  },
  {
   "cell_type": "code",
   "execution_count": 195,
   "metadata": {},
   "outputs": [
    {
     "name": "stdout",
     "output_type": "stream",
     "text": [
      "\n",
      "----Full Tree----\n",
      "              precision    recall  f1-score   support\n",
      "\n",
      "         Bad       0.91      0.92      0.92       270\n",
      "        Good       0.55      0.52      0.54        50\n",
      "\n",
      "    accuracy                           0.86       320\n",
      "   macro avg       0.73      0.72      0.73       320\n",
      "weighted avg       0.86      0.86      0.86       320\n",
      "\n",
      "\n",
      "----Pruned Tree----\n",
      "              precision    recall  f1-score   support\n",
      "\n",
      "         Bad       0.89      0.94      0.92       270\n",
      "        Good       0.54      0.40      0.46        50\n",
      "\n",
      "    accuracy                           0.85       320\n",
      "   macro avg       0.72      0.67      0.69       320\n",
      "weighted avg       0.84      0.85      0.84       320\n",
      "\n"
     ]
    }
   ],
   "source": [
    "from sklearn.metrics import classification_report\n",
    "print()\n",
    "print(\"----Full Tree----\")\n",
    "print(classification_report(y_test,full_results))\n",
    "print()\n",
    "print(\"----Pruned Tree----\")\n",
    "print(classification_report(y_test,pruned_results))"
   ]
  },
  {
   "cell_type": "code",
   "execution_count": 196,
   "metadata": {},
   "outputs": [
    {
     "name": "stdout",
     "output_type": "stream",
     "text": [
      "Full tree accuracy 0.859375\n",
      "Pruned tree accuracy 0.853125\n"
     ]
    }
   ],
   "source": [
    "print(\"Full tree accuracy\", factor_dtree.score(x_test, y_test))\n",
    "print(\"Pruned tree accuracy\", pruned_dtree.score(x_test, y_test))"
   ]
  },
  {
   "cell_type": "markdown",
   "metadata": {},
   "source": [
    "<h3>Insights</h3>\n",
    "Based on the classification report as shown above:<br>\n",
    "\n",
    "1. Pruned tree has a lower precision of 0.89 than the full tree which has a precision of 0.91<br>\n",
    "2. Pruned tree has a higher recall of 0.94 than full tree which has a recall of 0.92.<br>\n",
    "3. Pruned tree has a lower accuracy of 0.853 than full tree which has a accuracy of 0.859.<br>\n",
    "\n",
    "**Although full tree has a higher precision and accuracy, <b>we would be using the pruned decision tree</b> to make wine quality prediction as we are dealing with beverages for human consumption in this case\n",
    "Hence, recall is more important than precision n accuracy in this case. \n",
    "If there is bad quality wine that we did not managed to spot, it could posssibly lead to some health issues in the people who drank Jewel wine\"s red wine. "
   ]
  },
  {
   "cell_type": "code",
   "execution_count": 197,
   "metadata": {},
   "outputs": [],
   "source": [
    "#FEATURE IMPORTANCE"
   ]
  },
  {
   "cell_type": "code",
   "execution_count": 184,
   "metadata": {},
   "outputs": [
    {
     "name": "stdout",
     "output_type": "stream",
     "text": [
      "[0.02979583 0.08077911 0.08562657 0.08274713 0.08456617 0.02959871\n",
      " 0.11941012 0.08114698 0.04466504 0.12285021 0.23881413]\n"
     ]
    },
    {
     "data": {
      "image/png": "[encoded data removed]",
      "text/plain": [
       "<Figure size 432x288 with 1 Axes>"
      ]
     },
     "metadata": {
      "needs_background": "light"
     },
     "output_type": "display_data"
    }
   ],
   "source": [
    "import matplotlib.pyplot as plt\n",
    "\n",
    "fig, ax = plt.subplots()\n",
    "ax.barh(features, pruned_dtree.feature_importances_)\n",
    "print(factor_dtree.feature_importances_)  "
   ]
  },
  {
   "cell_type": "markdown",
   "metadata": {},
   "source": [
    "<h3>Insights</h3>\n",
    "- Alcohol has highest feature importance of 0.24<br>\n",
    "- Sulphate and Volatile Acidity have around the same feature importance ranging aound 0.11.<br>\n",
    "- pH & Density has absoulutely no feature importance.\n",
    "\n",
    "<b><u>Recommendations</b></u><br>\n",
    "As shown in the above bar chart, alcohol is the most important factor in manufacturing a good quality, followed by sulphates,volatile acidity and citric acid. <br>Hence, we would recommend our client, Jewel wine to focus most on getting the right alcohol content (recommended alcohol content is stated in previous section) to produce a good quality wine.\n",
    "Also, they can put minimal focus on the compositions of pH & density as it does not really affect the quality of red wine."
   ]
  }
 ],
 "metadata": {
  "kernelspec": {
   "display_name": "Python 3",
   "language": "python",
   "name": "python3"
  },
  "language_info": {
   "codemirror_mode": {
    "name": "ipython",
    "version": 3
   },
   "file_extension": ".py",
   "mimetype": "text/x-python",
   "name": "python",
   "nbconvert_exporter": "python",
   "pygments_lexer": "ipython3",
   "version": "3.8.3"
  }
 },
 "nbformat": 4,
 "nbformat_minor": 4
}
